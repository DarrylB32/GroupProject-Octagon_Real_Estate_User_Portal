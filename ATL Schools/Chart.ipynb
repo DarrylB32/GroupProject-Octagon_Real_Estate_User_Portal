{
 "cells": [
  {
   "cell_type": "code",
   "execution_count": 8,
   "metadata": {},
   "outputs": [],
   "source": [
    "%matplotlib notebook\n",
    "import plotly.graph_objects as go\n",
    "import matplotlib.pyplot as plt\n",
    "import numpy as np\n",
    "import plotly.express as px\n",
    "import pandas as pd\n",
    "import scipy.stats as st"
   ]
  },
  {
   "cell_type": "code",
   "execution_count": 9,
   "metadata": {},
   "outputs": [
    {
     "data": {
      "text/html": [
       "<div>\n",
       "<style scoped>\n",
       "    .dataframe tbody tr th:only-of-type {\n",
       "        vertical-align: middle;\n",
       "    }\n",
       "\n",
       "    .dataframe tbody tr th {\n",
       "        vertical-align: top;\n",
       "    }\n",
       "\n",
       "    .dataframe thead th {\n",
       "        text-align: right;\n",
       "    }\n",
       "</style>\n",
       "<table border=\"1\" class=\"dataframe\">\n",
       "  <thead>\n",
       "    <tr style=\"text-align: right;\">\n",
       "      <th></th>\n",
       "      <th>sys_sch</th>\n",
       "      <th>SystemId</th>\n",
       "      <th>SystemName</th>\n",
       "      <th>SchoolName</th>\n",
       "      <th>SchoolId</th>\n",
       "      <th>Cluster</th>\n",
       "      <th>Phone_Number</th>\n",
       "      <th>Street</th>\n",
       "      <th>City</th>\n",
       "      <th>State</th>\n",
       "      <th>...</th>\n",
       "      <th>Science_DistM</th>\n",
       "      <th>Soc_BegM</th>\n",
       "      <th>Soc_DevM</th>\n",
       "      <th>Soc_ProfM</th>\n",
       "      <th>Soc_DistM</th>\n",
       "      <th>CollegeEnrollment</th>\n",
       "      <th>FinancialEfficiency</th>\n",
       "      <th>SchoolClimate</th>\n",
       "      <th>Mobility</th>\n",
       "      <th>PPE</th>\n",
       "    </tr>\n",
       "  </thead>\n",
       "  <tbody>\n",
       "    <tr>\n",
       "      <th>0</th>\n",
       "      <td>601103</td>\n",
       "      <td>601</td>\n",
       "      <td>Appling County</td>\n",
       "      <td>Appling County High School</td>\n",
       "      <td>103</td>\n",
       "      <td>H</td>\n",
       "      <td>(912)367-8610</td>\n",
       "      <td>482 Blackshear Hwy</td>\n",
       "      <td>Baxley</td>\n",
       "      <td>GA</td>\n",
       "      <td>...</td>\n",
       "      <td>NaN</td>\n",
       "      <td>NaN</td>\n",
       "      <td>NaN</td>\n",
       "      <td>NaN</td>\n",
       "      <td>NaN</td>\n",
       "      <td>NaN</td>\n",
       "      <td>4.0</td>\n",
       "      <td>3.0</td>\n",
       "      <td>10.6</td>\n",
       "      <td>8758.37</td>\n",
       "    </tr>\n",
       "    <tr>\n",
       "      <th>1</th>\n",
       "      <td>601177</td>\n",
       "      <td>601</td>\n",
       "      <td>Appling County</td>\n",
       "      <td>Appling County Elementary School</td>\n",
       "      <td>177</td>\n",
       "      <td>E</td>\n",
       "      <td>(912)367-8640</td>\n",
       "      <td>680 Blackshear Hwy</td>\n",
       "      <td>Baxley</td>\n",
       "      <td>GA</td>\n",
       "      <td>...</td>\n",
       "      <td>NaN</td>\n",
       "      <td>NaN</td>\n",
       "      <td>NaN</td>\n",
       "      <td>NaN</td>\n",
       "      <td>NaN</td>\n",
       "      <td>NaN</td>\n",
       "      <td>3.5</td>\n",
       "      <td>4.0</td>\n",
       "      <td>14.2</td>\n",
       "      <td>8951.74</td>\n",
       "    </tr>\n",
       "    <tr>\n",
       "      <th>2</th>\n",
       "      <td>601195</td>\n",
       "      <td>601</td>\n",
       "      <td>Appling County</td>\n",
       "      <td>Appling County Middle School</td>\n",
       "      <td>195</td>\n",
       "      <td>M</td>\n",
       "      <td>(912)367-8630</td>\n",
       "      <td>2997 Blackshear Hwy</td>\n",
       "      <td>Baxley</td>\n",
       "      <td>GA</td>\n",
       "      <td>...</td>\n",
       "      <td>4.9</td>\n",
       "      <td>26.9</td>\n",
       "      <td>44.9</td>\n",
       "      <td>26.1</td>\n",
       "      <td>2.0</td>\n",
       "      <td>NaN</td>\n",
       "      <td>3.5</td>\n",
       "      <td>4.0</td>\n",
       "      <td>10.3</td>\n",
       "      <td>8364.52</td>\n",
       "    </tr>\n",
       "    <tr>\n",
       "      <th>3</th>\n",
       "      <td>601277</td>\n",
       "      <td>601</td>\n",
       "      <td>Appling County</td>\n",
       "      <td>Appling County Primary School</td>\n",
       "      <td>277</td>\n",
       "      <td>E</td>\n",
       "      <td>(912)367-8642</td>\n",
       "      <td>678 Blackshear Hwy</td>\n",
       "      <td>Baxley</td>\n",
       "      <td>GA</td>\n",
       "      <td>...</td>\n",
       "      <td>NaN</td>\n",
       "      <td>NaN</td>\n",
       "      <td>NaN</td>\n",
       "      <td>NaN</td>\n",
       "      <td>NaN</td>\n",
       "      <td>NaN</td>\n",
       "      <td>NaN</td>\n",
       "      <td>5.0</td>\n",
       "      <td>18.3</td>\n",
       "      <td>11828.66</td>\n",
       "    </tr>\n",
       "    <tr>\n",
       "      <th>4</th>\n",
       "      <td>602103</td>\n",
       "      <td>602</td>\n",
       "      <td>Atkinson County</td>\n",
       "      <td>Atkinson County High School</td>\n",
       "      <td>103</td>\n",
       "      <td>H</td>\n",
       "      <td>(912)422-3267</td>\n",
       "      <td>145 Rebel Ln</td>\n",
       "      <td>Pearson</td>\n",
       "      <td>GA</td>\n",
       "      <td>...</td>\n",
       "      <td>NaN</td>\n",
       "      <td>NaN</td>\n",
       "      <td>NaN</td>\n",
       "      <td>NaN</td>\n",
       "      <td>NaN</td>\n",
       "      <td>NaN</td>\n",
       "      <td>4.0</td>\n",
       "      <td>4.0</td>\n",
       "      <td>10.3</td>\n",
       "      <td>8565.49</td>\n",
       "    </tr>\n",
       "    <tr>\n",
       "      <th>...</th>\n",
       "      <td>...</td>\n",
       "      <td>...</td>\n",
       "      <td>...</td>\n",
       "      <td>...</td>\n",
       "      <td>...</td>\n",
       "      <td>...</td>\n",
       "      <td>...</td>\n",
       "      <td>...</td>\n",
       "      <td>...</td>\n",
       "      <td>...</td>\n",
       "      <td>...</td>\n",
       "      <td>...</td>\n",
       "      <td>...</td>\n",
       "      <td>...</td>\n",
       "      <td>...</td>\n",
       "      <td>...</td>\n",
       "      <td>...</td>\n",
       "      <td>...</td>\n",
       "      <td>...</td>\n",
       "      <td>...</td>\n",
       "      <td>...</td>\n",
       "    </tr>\n",
       "    <tr>\n",
       "      <th>2261</th>\n",
       "      <td>7830613613</td>\n",
       "      <td>7830613</td>\n",
       "      <td>State Charter School</td>\n",
       "      <td>Brookhaven Innovation Academy</td>\n",
       "      <td>613</td>\n",
       "      <td>EM</td>\n",
       "      <td>(770)538-1550</td>\n",
       "      <td>3159 Campus Dr</td>\n",
       "      <td>Norcross</td>\n",
       "      <td>GA</td>\n",
       "      <td>...</td>\n",
       "      <td>NaN</td>\n",
       "      <td>NaN</td>\n",
       "      <td>NaN</td>\n",
       "      <td>NaN</td>\n",
       "      <td>NaN</td>\n",
       "      <td>NaN</td>\n",
       "      <td>2.0</td>\n",
       "      <td>2.0</td>\n",
       "      <td>16.7</td>\n",
       "      <td>8841.18</td>\n",
       "    </tr>\n",
       "    <tr>\n",
       "      <th>2262</th>\n",
       "      <td>7830614614</td>\n",
       "      <td>7830614</td>\n",
       "      <td>State Charter School</td>\n",
       "      <td>Liberty Tech Charter School</td>\n",
       "      <td>614</td>\n",
       "      <td>EM</td>\n",
       "      <td>(678)456-5673</td>\n",
       "      <td>119 Price Road</td>\n",
       "      <td>Brooks</td>\n",
       "      <td>GA</td>\n",
       "      <td>...</td>\n",
       "      <td>2.4</td>\n",
       "      <td>24.4</td>\n",
       "      <td>29.3</td>\n",
       "      <td>29.3</td>\n",
       "      <td>17.1</td>\n",
       "      <td>NaN</td>\n",
       "      <td>4.0</td>\n",
       "      <td>5.0</td>\n",
       "      <td>19.8</td>\n",
       "      <td>5887.32</td>\n",
       "    </tr>\n",
       "    <tr>\n",
       "      <th>2263</th>\n",
       "      <td>79918931893</td>\n",
       "      <td>7991893</td>\n",
       "      <td>State Schools- Atlanta Area School for the Deaf</td>\n",
       "      <td>Atlanta Area School for the Deaf</td>\n",
       "      <td>1893</td>\n",
       "      <td>EMH</td>\n",
       "      <td>(404)298-4868</td>\n",
       "      <td>890 N Indian Creek Dr</td>\n",
       "      <td>Clarkston</td>\n",
       "      <td>GA</td>\n",
       "      <td>...</td>\n",
       "      <td>NaN</td>\n",
       "      <td>NaN</td>\n",
       "      <td>NaN</td>\n",
       "      <td>NaN</td>\n",
       "      <td>NaN</td>\n",
       "      <td>NaN</td>\n",
       "      <td>NaN</td>\n",
       "      <td>4.0</td>\n",
       "      <td>8.9</td>\n",
       "      <td>NaN</td>\n",
       "    </tr>\n",
       "    <tr>\n",
       "      <th>2264</th>\n",
       "      <td>79918941894</td>\n",
       "      <td>7991894</td>\n",
       "      <td>State Schools- Georgia Academy for the Blind</td>\n",
       "      <td>Georgia Academy for the Blind</td>\n",
       "      <td>1894</td>\n",
       "      <td>EMH</td>\n",
       "      <td>(478)751-6083</td>\n",
       "      <td>2895 Vineville Ave</td>\n",
       "      <td>Macon</td>\n",
       "      <td>GA</td>\n",
       "      <td>...</td>\n",
       "      <td>NaN</td>\n",
       "      <td>NaN</td>\n",
       "      <td>NaN</td>\n",
       "      <td>NaN</td>\n",
       "      <td>NaN</td>\n",
       "      <td>NaN</td>\n",
       "      <td>NaN</td>\n",
       "      <td>5.0</td>\n",
       "      <td>9.4</td>\n",
       "      <td>NaN</td>\n",
       "    </tr>\n",
       "    <tr>\n",
       "      <th>2265</th>\n",
       "      <td>79918951895</td>\n",
       "      <td>7991895</td>\n",
       "      <td>State Schools- Georgia School for the Deaf</td>\n",
       "      <td>Georgia School for the Deaf</td>\n",
       "      <td>1895</td>\n",
       "      <td>EMH</td>\n",
       "      <td>(706)777-2200</td>\n",
       "      <td>232 Perry Farm Rd SW</td>\n",
       "      <td>Cave Spring</td>\n",
       "      <td>GA</td>\n",
       "      <td>...</td>\n",
       "      <td>NaN</td>\n",
       "      <td>NaN</td>\n",
       "      <td>NaN</td>\n",
       "      <td>NaN</td>\n",
       "      <td>NaN</td>\n",
       "      <td>NaN</td>\n",
       "      <td>NaN</td>\n",
       "      <td>3.0</td>\n",
       "      <td>5.7</td>\n",
       "      <td>NaN</td>\n",
       "    </tr>\n",
       "  </tbody>\n",
       "</table>\n",
       "<p>2266 rows × 99 columns</p>\n",
       "</div>"
      ],
      "text/plain": [
       "          sys_sch  SystemId                                       SystemName  \\\n",
       "0          601103       601                                   Appling County   \n",
       "1          601177       601                                   Appling County   \n",
       "2          601195       601                                   Appling County   \n",
       "3          601277       601                                   Appling County   \n",
       "4          602103       602                                  Atkinson County   \n",
       "...           ...       ...                                              ...   \n",
       "2261   7830613613   7830613                             State Charter School   \n",
       "2262   7830614614   7830614                             State Charter School   \n",
       "2263  79918931893   7991893  State Schools- Atlanta Area School for the Deaf   \n",
       "2264  79918941894   7991894     State Schools- Georgia Academy for the Blind   \n",
       "2265  79918951895   7991895       State Schools- Georgia School for the Deaf   \n",
       "\n",
       "                            SchoolName  SchoolId Cluster   Phone_Number  \\\n",
       "0           Appling County High School       103       H  (912)367-8610   \n",
       "1     Appling County Elementary School       177       E  (912)367-8640   \n",
       "2         Appling County Middle School       195       M  (912)367-8630   \n",
       "3        Appling County Primary School       277       E  (912)367-8642   \n",
       "4          Atkinson County High School       103       H  (912)422-3267   \n",
       "...                                ...       ...     ...            ...   \n",
       "2261     Brookhaven Innovation Academy       613      EM  (770)538-1550   \n",
       "2262       Liberty Tech Charter School       614      EM  (678)456-5673   \n",
       "2263  Atlanta Area School for the Deaf      1893     EMH  (404)298-4868   \n",
       "2264     Georgia Academy for the Blind      1894     EMH  (478)751-6083   \n",
       "2265       Georgia School for the Deaf      1895     EMH  (706)777-2200   \n",
       "\n",
       "                     Street         City State  ...  Science_DistM  Soc_BegM  \\\n",
       "0        482 Blackshear Hwy       Baxley    GA  ...            NaN       NaN   \n",
       "1        680 Blackshear Hwy       Baxley    GA  ...            NaN       NaN   \n",
       "2       2997 Blackshear Hwy       Baxley    GA  ...            4.9      26.9   \n",
       "3        678 Blackshear Hwy       Baxley    GA  ...            NaN       NaN   \n",
       "4              145 Rebel Ln      Pearson    GA  ...            NaN       NaN   \n",
       "...                     ...          ...   ...  ...            ...       ...   \n",
       "2261         3159 Campus Dr    Norcross     GA  ...            NaN       NaN   \n",
       "2262         119 Price Road       Brooks    GA  ...            2.4      24.4   \n",
       "2263  890 N Indian Creek Dr    Clarkston    GA  ...            NaN       NaN   \n",
       "2264     2895 Vineville Ave        Macon    GA  ...            NaN       NaN   \n",
       "2265   232 Perry Farm Rd SW  Cave Spring    GA  ...            NaN       NaN   \n",
       "\n",
       "     Soc_DevM Soc_ProfM Soc_DistM  CollegeEnrollment  FinancialEfficiency  \\\n",
       "0         NaN       NaN       NaN                NaN                  4.0   \n",
       "1         NaN       NaN       NaN                NaN                  3.5   \n",
       "2        44.9      26.1       2.0                NaN                  3.5   \n",
       "3         NaN       NaN       NaN                NaN                  NaN   \n",
       "4         NaN       NaN       NaN                NaN                  4.0   \n",
       "...       ...       ...       ...                ...                  ...   \n",
       "2261      NaN       NaN       NaN                NaN                  2.0   \n",
       "2262     29.3      29.3      17.1                NaN                  4.0   \n",
       "2263      NaN       NaN       NaN                NaN                  NaN   \n",
       "2264      NaN       NaN       NaN                NaN                  NaN   \n",
       "2265      NaN       NaN       NaN                NaN                  NaN   \n",
       "\n",
       "      SchoolClimate  Mobility       PPE  \n",
       "0               3.0      10.6   8758.37  \n",
       "1               4.0      14.2   8951.74  \n",
       "2               4.0      10.3   8364.52  \n",
       "3               5.0      18.3  11828.66  \n",
       "4               4.0      10.3   8565.49  \n",
       "...             ...       ...       ...  \n",
       "2261            2.0      16.7   8841.18  \n",
       "2262            5.0      19.8   5887.32  \n",
       "2263            4.0       8.9       NaN  \n",
       "2264            5.0       9.4       NaN  \n",
       "2265            3.0       5.7       NaN  \n",
       "\n",
       "[2266 rows x 99 columns]"
      ]
     },
     "execution_count": 9,
     "metadata": {},
     "output_type": "execute_result"
    }
   ],
   "source": [
    "Ratings_df = pd.read_csv('ATL school level.csv')\n",
    "Ratings_df"
   ]
  },
  {
   "cell_type": "code",
   "execution_count": 10,
   "metadata": {},
   "outputs": [],
   "source": [
    "Ratings_df.rename(columns = {\"SystemName\":\"County Name\",\"SchoolName\":\"School Name\"},inplace=True)"
   ]
  },
  {
   "cell_type": "code",
   "execution_count": 11,
   "metadata": {},
   "outputs": [
    {
     "data": {
      "text/html": [
       "<div>\n",
       "<style scoped>\n",
       "    .dataframe tbody tr th:only-of-type {\n",
       "        vertical-align: middle;\n",
       "    }\n",
       "\n",
       "    .dataframe tbody tr th {\n",
       "        vertical-align: top;\n",
       "    }\n",
       "\n",
       "    .dataframe thead th {\n",
       "        text-align: right;\n",
       "    }\n",
       "</style>\n",
       "<table border=\"1\" class=\"dataframe\">\n",
       "  <thead>\n",
       "    <tr style=\"text-align: right;\">\n",
       "      <th></th>\n",
       "      <th>SystemId</th>\n",
       "      <th>County Name</th>\n",
       "      <th>School Name</th>\n",
       "      <th>SchoolId</th>\n",
       "      <th>Cluster</th>\n",
       "      <th>Street</th>\n",
       "      <th>City</th>\n",
       "      <th>State</th>\n",
       "      <th>Zip_Code</th>\n",
       "      <th>CCRPIScoreE</th>\n",
       "      <th>CCRPIScoreM</th>\n",
       "      <th>CCRPIScoreH</th>\n",
       "    </tr>\n",
       "  </thead>\n",
       "  <tbody>\n",
       "    <tr>\n",
       "      <th>0</th>\n",
       "      <td>601</td>\n",
       "      <td>Appling County</td>\n",
       "      <td>Appling County High School</td>\n",
       "      <td>103</td>\n",
       "      <td>H</td>\n",
       "      <td>482 Blackshear Hwy</td>\n",
       "      <td>Baxley</td>\n",
       "      <td>GA</td>\n",
       "      <td>31513</td>\n",
       "      <td>NaN</td>\n",
       "      <td>NaN</td>\n",
       "      <td>84.4</td>\n",
       "    </tr>\n",
       "    <tr>\n",
       "      <th>1</th>\n",
       "      <td>601</td>\n",
       "      <td>Appling County</td>\n",
       "      <td>Appling County Elementary School</td>\n",
       "      <td>177</td>\n",
       "      <td>E</td>\n",
       "      <td>680 Blackshear Hwy</td>\n",
       "      <td>Baxley</td>\n",
       "      <td>GA</td>\n",
       "      <td>31513</td>\n",
       "      <td>82.0</td>\n",
       "      <td>NaN</td>\n",
       "      <td>NaN</td>\n",
       "    </tr>\n",
       "    <tr>\n",
       "      <th>2</th>\n",
       "      <td>601</td>\n",
       "      <td>Appling County</td>\n",
       "      <td>Appling County Middle School</td>\n",
       "      <td>195</td>\n",
       "      <td>M</td>\n",
       "      <td>2997 Blackshear Hwy</td>\n",
       "      <td>Baxley</td>\n",
       "      <td>GA</td>\n",
       "      <td>31513</td>\n",
       "      <td>NaN</td>\n",
       "      <td>75.8</td>\n",
       "      <td>NaN</td>\n",
       "    </tr>\n",
       "    <tr>\n",
       "      <th>3</th>\n",
       "      <td>601</td>\n",
       "      <td>Appling County</td>\n",
       "      <td>Appling County Primary School</td>\n",
       "      <td>277</td>\n",
       "      <td>E</td>\n",
       "      <td>678 Blackshear Hwy</td>\n",
       "      <td>Baxley</td>\n",
       "      <td>GA</td>\n",
       "      <td>31513</td>\n",
       "      <td>NaN</td>\n",
       "      <td>NaN</td>\n",
       "      <td>NaN</td>\n",
       "    </tr>\n",
       "    <tr>\n",
       "      <th>4</th>\n",
       "      <td>602</td>\n",
       "      <td>Atkinson County</td>\n",
       "      <td>Atkinson County High School</td>\n",
       "      <td>103</td>\n",
       "      <td>H</td>\n",
       "      <td>145 Rebel Ln</td>\n",
       "      <td>Pearson</td>\n",
       "      <td>GA</td>\n",
       "      <td>31642</td>\n",
       "      <td>NaN</td>\n",
       "      <td>NaN</td>\n",
       "      <td>80.1</td>\n",
       "    </tr>\n",
       "    <tr>\n",
       "      <th>...</th>\n",
       "      <td>...</td>\n",
       "      <td>...</td>\n",
       "      <td>...</td>\n",
       "      <td>...</td>\n",
       "      <td>...</td>\n",
       "      <td>...</td>\n",
       "      <td>...</td>\n",
       "      <td>...</td>\n",
       "      <td>...</td>\n",
       "      <td>...</td>\n",
       "      <td>...</td>\n",
       "      <td>...</td>\n",
       "    </tr>\n",
       "    <tr>\n",
       "      <th>2261</th>\n",
       "      <td>7830613</td>\n",
       "      <td>State Charter School</td>\n",
       "      <td>Brookhaven Innovation Academy</td>\n",
       "      <td>613</td>\n",
       "      <td>EM</td>\n",
       "      <td>3159 Campus Dr</td>\n",
       "      <td>Norcross</td>\n",
       "      <td>GA</td>\n",
       "      <td>30071</td>\n",
       "      <td>54.5</td>\n",
       "      <td>54.1</td>\n",
       "      <td>NaN</td>\n",
       "    </tr>\n",
       "    <tr>\n",
       "      <th>2262</th>\n",
       "      <td>7830614</td>\n",
       "      <td>State Charter School</td>\n",
       "      <td>Liberty Tech Charter School</td>\n",
       "      <td>614</td>\n",
       "      <td>EM</td>\n",
       "      <td>119 Price Road</td>\n",
       "      <td>Brooks</td>\n",
       "      <td>GA</td>\n",
       "      <td>30205</td>\n",
       "      <td>78.9</td>\n",
       "      <td>72.1</td>\n",
       "      <td>NaN</td>\n",
       "    </tr>\n",
       "    <tr>\n",
       "      <th>2263</th>\n",
       "      <td>7991893</td>\n",
       "      <td>State Schools- Atlanta Area School for the Deaf</td>\n",
       "      <td>Atlanta Area School for the Deaf</td>\n",
       "      <td>1893</td>\n",
       "      <td>EMH</td>\n",
       "      <td>890 N Indian Creek Dr</td>\n",
       "      <td>Clarkston</td>\n",
       "      <td>GA</td>\n",
       "      <td>30021</td>\n",
       "      <td>28.3</td>\n",
       "      <td>40.2</td>\n",
       "      <td>38.2</td>\n",
       "    </tr>\n",
       "    <tr>\n",
       "      <th>2264</th>\n",
       "      <td>7991894</td>\n",
       "      <td>State Schools- Georgia Academy for the Blind</td>\n",
       "      <td>Georgia Academy for the Blind</td>\n",
       "      <td>1894</td>\n",
       "      <td>EMH</td>\n",
       "      <td>2895 Vineville Ave</td>\n",
       "      <td>Macon</td>\n",
       "      <td>GA</td>\n",
       "      <td>31204</td>\n",
       "      <td>65.6</td>\n",
       "      <td>63.4</td>\n",
       "      <td>43.0</td>\n",
       "    </tr>\n",
       "    <tr>\n",
       "      <th>2265</th>\n",
       "      <td>7991895</td>\n",
       "      <td>State Schools- Georgia School for the Deaf</td>\n",
       "      <td>Georgia School for the Deaf</td>\n",
       "      <td>1895</td>\n",
       "      <td>EMH</td>\n",
       "      <td>232 Perry Farm Rd SW</td>\n",
       "      <td>Cave Spring</td>\n",
       "      <td>GA</td>\n",
       "      <td>30124</td>\n",
       "      <td>NaN</td>\n",
       "      <td>16.4</td>\n",
       "      <td>NaN</td>\n",
       "    </tr>\n",
       "  </tbody>\n",
       "</table>\n",
       "<p>2266 rows × 12 columns</p>\n",
       "</div>"
      ],
      "text/plain": [
       "      SystemId                                      County Name  \\\n",
       "0          601                                   Appling County   \n",
       "1          601                                   Appling County   \n",
       "2          601                                   Appling County   \n",
       "3          601                                   Appling County   \n",
       "4          602                                  Atkinson County   \n",
       "...        ...                                              ...   \n",
       "2261   7830613                             State Charter School   \n",
       "2262   7830614                             State Charter School   \n",
       "2263   7991893  State Schools- Atlanta Area School for the Deaf   \n",
       "2264   7991894     State Schools- Georgia Academy for the Blind   \n",
       "2265   7991895       State Schools- Georgia School for the Deaf   \n",
       "\n",
       "                           School Name  SchoolId Cluster  \\\n",
       "0           Appling County High School       103       H   \n",
       "1     Appling County Elementary School       177       E   \n",
       "2         Appling County Middle School       195       M   \n",
       "3        Appling County Primary School       277       E   \n",
       "4          Atkinson County High School       103       H   \n",
       "...                                ...       ...     ...   \n",
       "2261     Brookhaven Innovation Academy       613      EM   \n",
       "2262       Liberty Tech Charter School       614      EM   \n",
       "2263  Atlanta Area School for the Deaf      1893     EMH   \n",
       "2264     Georgia Academy for the Blind      1894     EMH   \n",
       "2265       Georgia School for the Deaf      1895     EMH   \n",
       "\n",
       "                     Street         City State  Zip_Code  CCRPIScoreE  \\\n",
       "0        482 Blackshear Hwy       Baxley    GA     31513          NaN   \n",
       "1        680 Blackshear Hwy       Baxley    GA     31513         82.0   \n",
       "2       2997 Blackshear Hwy       Baxley    GA     31513          NaN   \n",
       "3        678 Blackshear Hwy       Baxley    GA     31513          NaN   \n",
       "4              145 Rebel Ln      Pearson    GA     31642          NaN   \n",
       "...                     ...          ...   ...       ...          ...   \n",
       "2261         3159 Campus Dr    Norcross     GA     30071         54.5   \n",
       "2262         119 Price Road       Brooks    GA     30205         78.9   \n",
       "2263  890 N Indian Creek Dr    Clarkston    GA     30021         28.3   \n",
       "2264     2895 Vineville Ave        Macon    GA     31204         65.6   \n",
       "2265   232 Perry Farm Rd SW  Cave Spring    GA     30124          NaN   \n",
       "\n",
       "      CCRPIScoreM  CCRPIScoreH  \n",
       "0             NaN         84.4  \n",
       "1             NaN          NaN  \n",
       "2            75.8          NaN  \n",
       "3             NaN          NaN  \n",
       "4             NaN         80.1  \n",
       "...           ...          ...  \n",
       "2261         54.1          NaN  \n",
       "2262         72.1          NaN  \n",
       "2263         40.2         38.2  \n",
       "2264         63.4         43.0  \n",
       "2265         16.4          NaN  \n",
       "\n",
       "[2266 rows x 12 columns]"
      ]
     },
     "execution_count": 11,
     "metadata": {},
     "output_type": "execute_result"
    }
   ],
   "source": [
    "clean_ratings = Ratings_df[[\"SystemId\", \"County Name\", \"School Name\", \"SchoolId\", \"Cluster\", \"Street\",\n",
    "                           \"City\", \"State\", \"Zip_Code\", \"CCRPIScoreE\", \"CCRPIScoreM\", \"CCRPIScoreH\"]]\n",
    "\n",
    "clean_ratings\n",
    "#cleaner_ratings_df= clean_ratings.loc[((clean_ratings[\"CCRPIScoreH\"]>100.4)|([\"CCRPIScoreM\"]>99.5)|([\"CCRPIScoreE\"]>101.0))]"
   ]
  },
  {
   "cell_type": "code",
   "execution_count": 12,
   "metadata": {},
   "outputs": [
    {
     "data": {
      "text/html": [
       "<div>\n",
       "<style scoped>\n",
       "    .dataframe tbody tr th:only-of-type {\n",
       "        vertical-align: middle;\n",
       "    }\n",
       "\n",
       "    .dataframe tbody tr th {\n",
       "        vertical-align: top;\n",
       "    }\n",
       "\n",
       "    .dataframe thead th {\n",
       "        text-align: right;\n",
       "    }\n",
       "</style>\n",
       "<table border=\"1\" class=\"dataframe\">\n",
       "  <thead>\n",
       "    <tr style=\"text-align: right;\">\n",
       "      <th></th>\n",
       "      <th>SystemId</th>\n",
       "      <th>County Name</th>\n",
       "      <th>School Name</th>\n",
       "      <th>SchoolId</th>\n",
       "      <th>Cluster</th>\n",
       "      <th>Street</th>\n",
       "      <th>City</th>\n",
       "      <th>State</th>\n",
       "      <th>Zip_Code</th>\n",
       "      <th>CCRPIScoreE</th>\n",
       "      <th>CCRPIScoreM</th>\n",
       "      <th>CCRPIScoreH</th>\n",
       "    </tr>\n",
       "  </thead>\n",
       "  <tbody>\n",
       "    <tr>\n",
       "      <th>474</th>\n",
       "      <td>644</td>\n",
       "      <td>DeKalb County</td>\n",
       "      <td>Kittredge Magnet School</td>\n",
       "      <td>288</td>\n",
       "      <td>EM</td>\n",
       "      <td>1663 E Nancy Creek Dr NE</td>\n",
       "      <td>Atlanta</td>\n",
       "      <td>GA</td>\n",
       "      <td>30319</td>\n",
       "      <td>108.7</td>\n",
       "      <td>101.9</td>\n",
       "      <td>NaN</td>\n",
       "    </tr>\n",
       "    <tr>\n",
       "      <th>481</th>\n",
       "      <td>644</td>\n",
       "      <td>DeKalb County</td>\n",
       "      <td>Wadsworth Magnet School</td>\n",
       "      <td>309</td>\n",
       "      <td>EM</td>\n",
       "      <td>3039 Santa Monica Drive</td>\n",
       "      <td>Decatur</td>\n",
       "      <td>GA</td>\n",
       "      <td>30032</td>\n",
       "      <td>106.5</td>\n",
       "      <td>97.0</td>\n",
       "      <td>NaN</td>\n",
       "    </tr>\n",
       "    <tr>\n",
       "      <th>2033</th>\n",
       "      <td>706</td>\n",
       "      <td>Muscogee County</td>\n",
       "      <td>Britt David Magnet Academy</td>\n",
       "      <td>3056</td>\n",
       "      <td>E</td>\n",
       "      <td>5801 Armour Rd</td>\n",
       "      <td>Columbus</td>\n",
       "      <td>GA</td>\n",
       "      <td>31906</td>\n",
       "      <td>106.0</td>\n",
       "      <td>NaN</td>\n",
       "      <td>NaN</td>\n",
       "    </tr>\n",
       "    <tr>\n",
       "      <th>1501</th>\n",
       "      <td>781</td>\n",
       "      <td>Marietta City</td>\n",
       "      <td>Marietta Center for Advanced Academics</td>\n",
       "      <td>106</td>\n",
       "      <td>E</td>\n",
       "      <td>311 Aviation Rd SE</td>\n",
       "      <td>Marietta</td>\n",
       "      <td>GA</td>\n",
       "      <td>30060</td>\n",
       "      <td>104.7</td>\n",
       "      <td>NaN</td>\n",
       "      <td>NaN</td>\n",
       "    </tr>\n",
       "    <tr>\n",
       "      <th>675</th>\n",
       "      <td>660</td>\n",
       "      <td>Fulton County</td>\n",
       "      <td>Lake Windward Elementary School</td>\n",
       "      <td>190</td>\n",
       "      <td>E</td>\n",
       "      <td>11770 E Fox Ct</td>\n",
       "      <td>Alpharetta</td>\n",
       "      <td>GA</td>\n",
       "      <td>30005</td>\n",
       "      <td>104.5</td>\n",
       "      <td>NaN</td>\n",
       "      <td>NaN</td>\n",
       "    </tr>\n",
       "    <tr>\n",
       "      <th>625</th>\n",
       "      <td>658</td>\n",
       "      <td>Forsyth County</td>\n",
       "      <td>Johns Creek Elementary School</td>\n",
       "      <td>108</td>\n",
       "      <td>E</td>\n",
       "      <td>6205 Old Atlanta Rd</td>\n",
       "      <td>Suwanee</td>\n",
       "      <td>GA</td>\n",
       "      <td>30024</td>\n",
       "      <td>103.5</td>\n",
       "      <td>NaN</td>\n",
       "      <td>NaN</td>\n",
       "    </tr>\n",
       "    <tr>\n",
       "      <th>631</th>\n",
       "      <td>658</td>\n",
       "      <td>Forsyth County</td>\n",
       "      <td>Daves Creek Elementary School</td>\n",
       "      <td>197</td>\n",
       "      <td>E</td>\n",
       "      <td>3740 Melody Mizer Ln</td>\n",
       "      <td>Cumming</td>\n",
       "      <td>GA</td>\n",
       "      <td>30041</td>\n",
       "      <td>103.3</td>\n",
       "      <td>NaN</td>\n",
       "      <td>NaN</td>\n",
       "    </tr>\n",
       "    <tr>\n",
       "      <th>2077</th>\n",
       "      <td>721</td>\n",
       "      <td>Richmond County</td>\n",
       "      <td>Walker Traditional Elementary School</td>\n",
       "      <td>1064</td>\n",
       "      <td>EM</td>\n",
       "      <td>1301 Wrightsboro Rd</td>\n",
       "      <td>Augusta</td>\n",
       "      <td>GA</td>\n",
       "      <td>30901</td>\n",
       "      <td>102.2</td>\n",
       "      <td>86.1</td>\n",
       "      <td>NaN</td>\n",
       "    </tr>\n",
       "    <tr>\n",
       "      <th>618</th>\n",
       "      <td>658</td>\n",
       "      <td>Forsyth County</td>\n",
       "      <td>Settles Bridge Elementary School</td>\n",
       "      <td>100</td>\n",
       "      <td>E</td>\n",
       "      <td>600 James Burgess Rd</td>\n",
       "      <td>Suwanee</td>\n",
       "      <td>GA</td>\n",
       "      <td>30024</td>\n",
       "      <td>101.4</td>\n",
       "      <td>NaN</td>\n",
       "      <td>NaN</td>\n",
       "    </tr>\n",
       "    <tr>\n",
       "      <th>833</th>\n",
       "      <td>667</td>\n",
       "      <td>Gwinnett County</td>\n",
       "      <td>Simpson Elementary School</td>\n",
       "      <td>494</td>\n",
       "      <td>E</td>\n",
       "      <td>4525 E Jones Bridge Rd</td>\n",
       "      <td>Peachtree Corners</td>\n",
       "      <td>GA</td>\n",
       "      <td>30092</td>\n",
       "      <td>101.0</td>\n",
       "      <td>NaN</td>\n",
       "      <td>NaN</td>\n",
       "    </tr>\n",
       "  </tbody>\n",
       "</table>\n",
       "</div>"
      ],
      "text/plain": [
       "      SystemId      County Name                             School Name  \\\n",
       "474        644    DeKalb County                 Kittredge Magnet School   \n",
       "481        644    DeKalb County                 Wadsworth Magnet School   \n",
       "2033       706  Muscogee County              Britt David Magnet Academy   \n",
       "1501       781    Marietta City  Marietta Center for Advanced Academics   \n",
       "675        660    Fulton County         Lake Windward Elementary School   \n",
       "625        658   Forsyth County           Johns Creek Elementary School   \n",
       "631        658   Forsyth County           Daves Creek Elementary School   \n",
       "2077       721  Richmond County    Walker Traditional Elementary School   \n",
       "618        658   Forsyth County        Settles Bridge Elementary School   \n",
       "833        667  Gwinnett County               Simpson Elementary School   \n",
       "\n",
       "      SchoolId Cluster                    Street               City State  \\\n",
       "474        288      EM  1663 E Nancy Creek Dr NE            Atlanta    GA   \n",
       "481        309      EM   3039 Santa Monica Drive            Decatur    GA   \n",
       "2033      3056       E            5801 Armour Rd           Columbus    GA   \n",
       "1501       106       E        311 Aviation Rd SE           Marietta    GA   \n",
       "675        190       E            11770 E Fox Ct         Alpharetta    GA   \n",
       "625        108       E       6205 Old Atlanta Rd            Suwanee    GA   \n",
       "631        197       E      3740 Melody Mizer Ln            Cumming    GA   \n",
       "2077      1064      EM       1301 Wrightsboro Rd            Augusta    GA   \n",
       "618        100       E      600 James Burgess Rd            Suwanee    GA   \n",
       "833        494       E    4525 E Jones Bridge Rd  Peachtree Corners    GA   \n",
       "\n",
       "      Zip_Code  CCRPIScoreE  CCRPIScoreM  CCRPIScoreH  \n",
       "474      30319        108.7        101.9          NaN  \n",
       "481      30032        106.5         97.0          NaN  \n",
       "2033     31906        106.0          NaN          NaN  \n",
       "1501     30060        104.7          NaN          NaN  \n",
       "675      30005        104.5          NaN          NaN  \n",
       "625      30024        103.5          NaN          NaN  \n",
       "631      30041        103.3          NaN          NaN  \n",
       "2077     30901        102.2         86.1          NaN  \n",
       "618      30024        101.4          NaN          NaN  \n",
       "833      30092        101.0          NaN          NaN  "
      ]
     },
     "execution_count": 12,
     "metadata": {},
     "output_type": "execute_result"
    }
   ],
   "source": [
    "top_elementary = clean_ratings[clean_ratings[\"CCRPIScoreE\"]>0].sort_values(by=\"CCRPIScoreE\",ascending=False).head(10)\n",
    "top_elementary"
   ]
  },
  {
   "cell_type": "code",
   "execution_count": 13,
   "metadata": {},
   "outputs": [
    {
     "data": {
      "text/html": [
       "<div>\n",
       "<style scoped>\n",
       "    .dataframe tbody tr th:only-of-type {\n",
       "        vertical-align: middle;\n",
       "    }\n",
       "\n",
       "    .dataframe tbody tr th {\n",
       "        vertical-align: top;\n",
       "    }\n",
       "\n",
       "    .dataframe thead th {\n",
       "        text-align: right;\n",
       "    }\n",
       "</style>\n",
       "<table border=\"1\" class=\"dataframe\">\n",
       "  <thead>\n",
       "    <tr style=\"text-align: right;\">\n",
       "      <th></th>\n",
       "      <th>SystemId</th>\n",
       "      <th>County Name</th>\n",
       "      <th>School Name</th>\n",
       "      <th>SchoolId</th>\n",
       "      <th>Cluster</th>\n",
       "      <th>Street</th>\n",
       "      <th>City</th>\n",
       "      <th>State</th>\n",
       "      <th>Zip_Code</th>\n",
       "      <th>CCRPIScoreE</th>\n",
       "      <th>CCRPIScoreM</th>\n",
       "      <th>CCRPIScoreH</th>\n",
       "    </tr>\n",
       "  </thead>\n",
       "  <tbody>\n",
       "    <tr>\n",
       "      <th>622</th>\n",
       "      <td>658</td>\n",
       "      <td>Forsyth County</td>\n",
       "      <td>Riverwatch Middle School</td>\n",
       "      <td>105</td>\n",
       "      <td>M</td>\n",
       "      <td>610 James Burgess Rd</td>\n",
       "      <td>Suwanee</td>\n",
       "      <td>GA</td>\n",
       "      <td>30024</td>\n",
       "      <td>NaN</td>\n",
       "      <td>103.9</td>\n",
       "      <td>NaN</td>\n",
       "    </tr>\n",
       "    <tr>\n",
       "      <th>322</th>\n",
       "      <td>633</td>\n",
       "      <td>Cobb County</td>\n",
       "      <td>Dickerson Middle School</td>\n",
       "      <td>281</td>\n",
       "      <td>M</td>\n",
       "      <td>855 Woodlawn Dr NE</td>\n",
       "      <td>Marietta</td>\n",
       "      <td>GA</td>\n",
       "      <td>30068</td>\n",
       "      <td>NaN</td>\n",
       "      <td>103.0</td>\n",
       "      <td>NaN</td>\n",
       "    </tr>\n",
       "    <tr>\n",
       "      <th>474</th>\n",
       "      <td>644</td>\n",
       "      <td>DeKalb County</td>\n",
       "      <td>Kittredge Magnet School</td>\n",
       "      <td>288</td>\n",
       "      <td>EM</td>\n",
       "      <td>1663 E Nancy Creek Dr NE</td>\n",
       "      <td>Atlanta</td>\n",
       "      <td>GA</td>\n",
       "      <td>30319</td>\n",
       "      <td>108.7</td>\n",
       "      <td>101.9</td>\n",
       "      <td>NaN</td>\n",
       "    </tr>\n",
       "    <tr>\n",
       "      <th>521</th>\n",
       "      <td>647</td>\n",
       "      <td>Dougherty County</td>\n",
       "      <td>Robert A. Cross Middle Magnet</td>\n",
       "      <td>103</td>\n",
       "      <td>M</td>\n",
       "      <td>324 Lockett Station Rd</td>\n",
       "      <td>Albany</td>\n",
       "      <td>GA</td>\n",
       "      <td>31721</td>\n",
       "      <td>NaN</td>\n",
       "      <td>101.5</td>\n",
       "      <td>NaN</td>\n",
       "    </tr>\n",
       "    <tr>\n",
       "      <th>319</th>\n",
       "      <td>633</td>\n",
       "      <td>Cobb County</td>\n",
       "      <td>Dodgen Middle School</td>\n",
       "      <td>275</td>\n",
       "      <td>M</td>\n",
       "      <td>1725 Bill Murdock Rd</td>\n",
       "      <td>Marietta</td>\n",
       "      <td>GA</td>\n",
       "      <td>30062</td>\n",
       "      <td>NaN</td>\n",
       "      <td>101.0</td>\n",
       "      <td>NaN</td>\n",
       "    </tr>\n",
       "    <tr>\n",
       "      <th>2098</th>\n",
       "      <td>721</td>\n",
       "      <td>Richmond County</td>\n",
       "      <td>Davidson Magnet School</td>\n",
       "      <td>4562</td>\n",
       "      <td>MH</td>\n",
       "      <td>615 12th St</td>\n",
       "      <td>Augusta</td>\n",
       "      <td>GA</td>\n",
       "      <td>30901</td>\n",
       "      <td>NaN</td>\n",
       "      <td>100.7</td>\n",
       "      <td>105.8</td>\n",
       "    </tr>\n",
       "    <tr>\n",
       "      <th>650</th>\n",
       "      <td>658</td>\n",
       "      <td>Forsyth County</td>\n",
       "      <td>South Forsyth Middle School</td>\n",
       "      <td>598</td>\n",
       "      <td>M</td>\n",
       "      <td>4670 Windermere Parkway</td>\n",
       "      <td>Cumming</td>\n",
       "      <td>GA</td>\n",
       "      <td>30041</td>\n",
       "      <td>NaN</td>\n",
       "      <td>100.6</td>\n",
       "      <td>NaN</td>\n",
       "    </tr>\n",
       "    <tr>\n",
       "      <th>344</th>\n",
       "      <td>633</td>\n",
       "      <td>Cobb County</td>\n",
       "      <td>Hightower Trail Middle School</td>\n",
       "      <td>394</td>\n",
       "      <td>M</td>\n",
       "      <td>3905 Post Oak Tritt Rd</td>\n",
       "      <td>Marietta</td>\n",
       "      <td>GA</td>\n",
       "      <td>30062</td>\n",
       "      <td>NaN</td>\n",
       "      <td>100.5</td>\n",
       "      <td>NaN</td>\n",
       "    </tr>\n",
       "    <tr>\n",
       "      <th>254</th>\n",
       "      <td>631</td>\n",
       "      <td>Clayton County</td>\n",
       "      <td>Elite Scholars Academy School</td>\n",
       "      <td>114</td>\n",
       "      <td>MH</td>\n",
       "      <td>5968 Maddox Rd</td>\n",
       "      <td>Morrow</td>\n",
       "      <td>GA</td>\n",
       "      <td>30260</td>\n",
       "      <td>NaN</td>\n",
       "      <td>100.1</td>\n",
       "      <td>104.2</td>\n",
       "    </tr>\n",
       "    <tr>\n",
       "      <th>716</th>\n",
       "      <td>660</td>\n",
       "      <td>Fulton County</td>\n",
       "      <td>River Trail Middle School</td>\n",
       "      <td>402</td>\n",
       "      <td>M</td>\n",
       "      <td>10795 Rogers Cir</td>\n",
       "      <td>Johns Creek</td>\n",
       "      <td>GA</td>\n",
       "      <td>30097</td>\n",
       "      <td>NaN</td>\n",
       "      <td>99.5</td>\n",
       "      <td>NaN</td>\n",
       "    </tr>\n",
       "  </tbody>\n",
       "</table>\n",
       "</div>"
      ],
      "text/plain": [
       "      SystemId       County Name                    School Name  SchoolId  \\\n",
       "622        658    Forsyth County       Riverwatch Middle School       105   \n",
       "322        633       Cobb County        Dickerson Middle School       281   \n",
       "474        644     DeKalb County        Kittredge Magnet School       288   \n",
       "521        647  Dougherty County  Robert A. Cross Middle Magnet       103   \n",
       "319        633       Cobb County           Dodgen Middle School       275   \n",
       "2098       721   Richmond County         Davidson Magnet School      4562   \n",
       "650        658    Forsyth County    South Forsyth Middle School       598   \n",
       "344        633       Cobb County  Hightower Trail Middle School       394   \n",
       "254        631    Clayton County  Elite Scholars Academy School       114   \n",
       "716        660     Fulton County      River Trail Middle School       402   \n",
       "\n",
       "     Cluster                    Street         City State  Zip_Code  \\\n",
       "622        M      610 James Burgess Rd      Suwanee    GA     30024   \n",
       "322        M        855 Woodlawn Dr NE     Marietta    GA     30068   \n",
       "474       EM  1663 E Nancy Creek Dr NE      Atlanta    GA     30319   \n",
       "521        M    324 Lockett Station Rd       Albany    GA     31721   \n",
       "319        M      1725 Bill Murdock Rd     Marietta    GA     30062   \n",
       "2098      MH               615 12th St      Augusta    GA     30901   \n",
       "650        M   4670 Windermere Parkway      Cumming    GA     30041   \n",
       "344        M    3905 Post Oak Tritt Rd     Marietta    GA     30062   \n",
       "254       MH            5968 Maddox Rd       Morrow    GA     30260   \n",
       "716        M          10795 Rogers Cir  Johns Creek    GA     30097   \n",
       "\n",
       "      CCRPIScoreE  CCRPIScoreM  CCRPIScoreH  \n",
       "622           NaN        103.9          NaN  \n",
       "322           NaN        103.0          NaN  \n",
       "474         108.7        101.9          NaN  \n",
       "521           NaN        101.5          NaN  \n",
       "319           NaN        101.0          NaN  \n",
       "2098          NaN        100.7        105.8  \n",
       "650           NaN        100.6          NaN  \n",
       "344           NaN        100.5          NaN  \n",
       "254           NaN        100.1        104.2  \n",
       "716           NaN         99.5          NaN  "
      ]
     },
     "execution_count": 13,
     "metadata": {},
     "output_type": "execute_result"
    }
   ],
   "source": [
    "top_middle = clean_ratings[clean_ratings[\"CCRPIScoreM\"]>0].sort_values(by=\"CCRPIScoreM\",ascending=False).head(10)\n",
    "top_middle"
   ]
  },
  {
   "cell_type": "code",
   "execution_count": 14,
   "metadata": {},
   "outputs": [
    {
     "data": {
      "text/html": [
       "<div>\n",
       "<style scoped>\n",
       "    .dataframe tbody tr th:only-of-type {\n",
       "        vertical-align: middle;\n",
       "    }\n",
       "\n",
       "    .dataframe tbody tr th {\n",
       "        vertical-align: top;\n",
       "    }\n",
       "\n",
       "    .dataframe thead th {\n",
       "        text-align: right;\n",
       "    }\n",
       "</style>\n",
       "<table border=\"1\" class=\"dataframe\">\n",
       "  <thead>\n",
       "    <tr style=\"text-align: right;\">\n",
       "      <th></th>\n",
       "      <th>SystemId</th>\n",
       "      <th>County Name</th>\n",
       "      <th>School Name</th>\n",
       "      <th>SchoolId</th>\n",
       "      <th>Cluster</th>\n",
       "      <th>Street</th>\n",
       "      <th>City</th>\n",
       "      <th>State</th>\n",
       "      <th>Zip_Code</th>\n",
       "      <th>CCRPIScoreE</th>\n",
       "      <th>CCRPIScoreM</th>\n",
       "      <th>CCRPIScoreH</th>\n",
       "    </tr>\n",
       "  </thead>\n",
       "  <tbody>\n",
       "    <tr>\n",
       "      <th>1883</th>\n",
       "      <td>667</td>\n",
       "      <td>Gwinnett County</td>\n",
       "      <td>Gwinnett School of Mathematics, Science and Te...</td>\n",
       "      <td>1019</td>\n",
       "      <td>H</td>\n",
       "      <td>970 Mcelvaney Ln</td>\n",
       "      <td>Lawrenceville</td>\n",
       "      <td>GA</td>\n",
       "      <td>30044</td>\n",
       "      <td>NaN</td>\n",
       "      <td>NaN</td>\n",
       "      <td>108.2</td>\n",
       "    </tr>\n",
       "    <tr>\n",
       "      <th>490</th>\n",
       "      <td>644</td>\n",
       "      <td>DeKalb County</td>\n",
       "      <td>DeKalb Early College Academy</td>\n",
       "      <td>407</td>\n",
       "      <td>H</td>\n",
       "      <td>1701 Mountain Industrial Blvd</td>\n",
       "      <td>Stone Mountain</td>\n",
       "      <td>GA</td>\n",
       "      <td>30083</td>\n",
       "      <td>NaN</td>\n",
       "      <td>NaN</td>\n",
       "      <td>107.1</td>\n",
       "    </tr>\n",
       "    <tr>\n",
       "      <th>2098</th>\n",
       "      <td>721</td>\n",
       "      <td>Richmond County</td>\n",
       "      <td>Davidson Magnet School</td>\n",
       "      <td>4562</td>\n",
       "      <td>MH</td>\n",
       "      <td>615 12th St</td>\n",
       "      <td>Augusta</td>\n",
       "      <td>GA</td>\n",
       "      <td>30901</td>\n",
       "      <td>NaN</td>\n",
       "      <td>100.7</td>\n",
       "      <td>105.8</td>\n",
       "    </tr>\n",
       "    <tr>\n",
       "      <th>254</th>\n",
       "      <td>631</td>\n",
       "      <td>Clayton County</td>\n",
       "      <td>Elite Scholars Academy School</td>\n",
       "      <td>114</td>\n",
       "      <td>MH</td>\n",
       "      <td>5968 Maddox Rd</td>\n",
       "      <td>Morrow</td>\n",
       "      <td>GA</td>\n",
       "      <td>30260</td>\n",
       "      <td>NaN</td>\n",
       "      <td>100.1</td>\n",
       "      <td>104.2</td>\n",
       "    </tr>\n",
       "    <tr>\n",
       "      <th>63</th>\n",
       "      <td>611</td>\n",
       "      <td>Bibb County</td>\n",
       "      <td>Academy For Classical Education</td>\n",
       "      <td>117</td>\n",
       "      <td>EMH</td>\n",
       "      <td>5665 New Forsyth Rd</td>\n",
       "      <td>Macon</td>\n",
       "      <td>GA</td>\n",
       "      <td>31220</td>\n",
       "      <td>87.4</td>\n",
       "      <td>96.1</td>\n",
       "      <td>103.3</td>\n",
       "    </tr>\n",
       "    <tr>\n",
       "      <th>296</th>\n",
       "      <td>633</td>\n",
       "      <td>Cobb County</td>\n",
       "      <td>Walton High School</td>\n",
       "      <td>175</td>\n",
       "      <td>H</td>\n",
       "      <td>1590 Bill Murdock Rd</td>\n",
       "      <td>Marietta</td>\n",
       "      <td>GA</td>\n",
       "      <td>30062</td>\n",
       "      <td>NaN</td>\n",
       "      <td>NaN</td>\n",
       "      <td>101.0</td>\n",
       "    </tr>\n",
       "    <tr>\n",
       "      <th>1460</th>\n",
       "      <td>764</td>\n",
       "      <td>Buford City</td>\n",
       "      <td>Buford High School</td>\n",
       "      <td>191</td>\n",
       "      <td>H</td>\n",
       "      <td>2750 Sawnee Ave</td>\n",
       "      <td>Buford</td>\n",
       "      <td>GA</td>\n",
       "      <td>30518</td>\n",
       "      <td>NaN</td>\n",
       "      <td>NaN</td>\n",
       "      <td>100.7</td>\n",
       "    </tr>\n",
       "    <tr>\n",
       "      <th>1120</th>\n",
       "      <td>708</td>\n",
       "      <td>Oconee County</td>\n",
       "      <td>North Oconee High School</td>\n",
       "      <td>105</td>\n",
       "      <td>H</td>\n",
       "      <td>1081 Rocky Branch Rd</td>\n",
       "      <td>Bogart</td>\n",
       "      <td>GA</td>\n",
       "      <td>30622</td>\n",
       "      <td>NaN</td>\n",
       "      <td>NaN</td>\n",
       "      <td>100.6</td>\n",
       "    </tr>\n",
       "    <tr>\n",
       "      <th>640</th>\n",
       "      <td>658</td>\n",
       "      <td>Forsyth County</td>\n",
       "      <td>Lambert High School</td>\n",
       "      <td>214</td>\n",
       "      <td>H</td>\n",
       "      <td>805 Nichols Rd</td>\n",
       "      <td>Suwanee</td>\n",
       "      <td>GA</td>\n",
       "      <td>30024</td>\n",
       "      <td>NaN</td>\n",
       "      <td>NaN</td>\n",
       "      <td>100.5</td>\n",
       "    </tr>\n",
       "    <tr>\n",
       "      <th>684</th>\n",
       "      <td>660</td>\n",
       "      <td>Fulton County</td>\n",
       "      <td>Northview High School</td>\n",
       "      <td>203</td>\n",
       "      <td>H</td>\n",
       "      <td>10625 Parsons Rd</td>\n",
       "      <td>Johns Creek</td>\n",
       "      <td>GA</td>\n",
       "      <td>30097</td>\n",
       "      <td>NaN</td>\n",
       "      <td>NaN</td>\n",
       "      <td>100.4</td>\n",
       "    </tr>\n",
       "  </tbody>\n",
       "</table>\n",
       "</div>"
      ],
      "text/plain": [
       "      SystemId      County Name  \\\n",
       "1883       667  Gwinnett County   \n",
       "490        644    DeKalb County   \n",
       "2098       721  Richmond County   \n",
       "254        631   Clayton County   \n",
       "63         611      Bibb County   \n",
       "296        633      Cobb County   \n",
       "1460       764      Buford City   \n",
       "1120       708    Oconee County   \n",
       "640        658   Forsyth County   \n",
       "684        660    Fulton County   \n",
       "\n",
       "                                            School Name  SchoolId Cluster  \\\n",
       "1883  Gwinnett School of Mathematics, Science and Te...      1019       H   \n",
       "490                        DeKalb Early College Academy       407       H   \n",
       "2098                             Davidson Magnet School      4562      MH   \n",
       "254                       Elite Scholars Academy School       114      MH   \n",
       "63                      Academy For Classical Education       117     EMH   \n",
       "296                                  Walton High School       175       H   \n",
       "1460                                 Buford High School       191       H   \n",
       "1120                           North Oconee High School       105       H   \n",
       "640                                 Lambert High School       214       H   \n",
       "684                               Northview High School       203       H   \n",
       "\n",
       "                             Street            City State  Zip_Code  \\\n",
       "1883               970 Mcelvaney Ln   Lawrenceville    GA     30044   \n",
       "490   1701 Mountain Industrial Blvd  Stone Mountain    GA     30083   \n",
       "2098                    615 12th St         Augusta    GA     30901   \n",
       "254                  5968 Maddox Rd          Morrow    GA     30260   \n",
       "63              5665 New Forsyth Rd           Macon    GA     31220   \n",
       "296            1590 Bill Murdock Rd        Marietta    GA     30062   \n",
       "1460                2750 Sawnee Ave          Buford    GA     30518   \n",
       "1120           1081 Rocky Branch Rd          Bogart    GA     30622   \n",
       "640                  805 Nichols Rd         Suwanee    GA     30024   \n",
       "684                10625 Parsons Rd     Johns Creek    GA     30097   \n",
       "\n",
       "      CCRPIScoreE  CCRPIScoreM  CCRPIScoreH  \n",
       "1883          NaN          NaN        108.2  \n",
       "490           NaN          NaN        107.1  \n",
       "2098          NaN        100.7        105.8  \n",
       "254           NaN        100.1        104.2  \n",
       "63           87.4         96.1        103.3  \n",
       "296           NaN          NaN        101.0  \n",
       "1460          NaN          NaN        100.7  \n",
       "1120          NaN          NaN        100.6  \n",
       "640           NaN          NaN        100.5  \n",
       "684           NaN          NaN        100.4  "
      ]
     },
     "execution_count": 14,
     "metadata": {},
     "output_type": "execute_result"
    }
   ],
   "source": [
    "top_high = clean_ratings[clean_ratings[\"CCRPIScoreH\"]>0].sort_values(by=\"CCRPIScoreH\",ascending=False).head(10)\n",
    "top_high"
   ]
  },
  {
   "cell_type": "code",
   "execution_count": 15,
   "metadata": {},
   "outputs": [
    {
     "data": {
      "application/vnd.plotly.v1+json": {
       "config": {
        "plotlyServerURL": "https://plot.ly"
       },
       "data": [
        {
         "name": "Elementary School",
         "type": "bar",
         "x": [
          "Kittredge Magnet School",
          "Wadsworth Magnet School",
          "Britt David Magnet Academy",
          "Marietta Center for Advanced Academics",
          "Lake Windward Elementary School",
          "ohns Creek Elementary School",
          "Daves Creek Elementary School",
          "Walker Traditional Elementary School",
          "Settles Bridge Elementary School",
          "Simpson Elementary School"
         ],
         "y": [
          108.7,
          106.5,
          106,
          104.7,
          104.5,
          103.5,
          103.3,
          102.2,
          101.4,
          101
         ]
        },
        {
         "name": "Middle School",
         "type": "bar",
         "x": [
          "Riverwatch Middle School",
          "Dickerson Middle School",
          "Kittredge Magnet School",
          "Robert A. Cross Middle Magnet",
          "Dodgen Middle School",
          "Davidson Magnet School",
          "South Forsyth Middle School",
          "Hightower Trail Middle School",
          "Elite Scholars Academy School",
          "River Trail Middle School"
         ],
         "y": [
          103.9,
          103,
          101.9,
          101.5,
          101,
          100.7,
          100.6,
          100.5,
          100.1,
          99.5
         ]
        },
        {
         "name": "High School",
         "type": "bar",
         "x": [
          "Gwinnett School of Mathematics, Science and Technology",
          "DeKalb Early College Academy",
          "Davidson Magnet School",
          "Elite Scholars Academy School",
          "Academy For Classical Education",
          "Walton High School",
          "Buford High School",
          "North Oconee High School",
          "Lambert High School",
          "Northview High School"
         ],
         "y": [
          108.2,
          107.1,
          105.8,
          104.2,
          103.3,
          101,
          100.7,
          100.6,
          100.5,
          100.4
         ]
        }
       ],
       "layout": {
        "barmode": "group",
        "template": {
         "data": {
          "bar": [
           {
            "error_x": {
             "color": "#2a3f5f"
            },
            "error_y": {
             "color": "#2a3f5f"
            },
            "marker": {
             "line": {
              "color": "#E5ECF6",
              "width": 0.5
             }
            },
            "type": "bar"
           }
          ],
          "barpolar": [
           {
            "marker": {
             "line": {
              "color": "#E5ECF6",
              "width": 0.5
             }
            },
            "type": "barpolar"
           }
          ],
          "carpet": [
           {
            "aaxis": {
             "endlinecolor": "#2a3f5f",
             "gridcolor": "white",
             "linecolor": "white",
             "minorgridcolor": "white",
             "startlinecolor": "#2a3f5f"
            },
            "baxis": {
             "endlinecolor": "#2a3f5f",
             "gridcolor": "white",
             "linecolor": "white",
             "minorgridcolor": "white",
             "startlinecolor": "#2a3f5f"
            },
            "type": "carpet"
           }
          ],
          "choropleth": [
           {
            "colorbar": {
             "outlinewidth": 0,
             "ticks": ""
            },
            "type": "choropleth"
           }
          ],
          "contour": [
           {
            "colorbar": {
             "outlinewidth": 0,
             "ticks": ""
            },
            "colorscale": [
             [
              0,
              "#0d0887"
             ],
             [
              0.1111111111111111,
              "#46039f"
             ],
             [
              0.2222222222222222,
              "#7201a8"
             ],
             [
              0.3333333333333333,
              "#9c179e"
             ],
             [
              0.4444444444444444,
              "#bd3786"
             ],
             [
              0.5555555555555556,
              "#d8576b"
             ],
             [
              0.6666666666666666,
              "#ed7953"
             ],
             [
              0.7777777777777778,
              "#fb9f3a"
             ],
             [
              0.8888888888888888,
              "#fdca26"
             ],
             [
              1,
              "#f0f921"
             ]
            ],
            "type": "contour"
           }
          ],
          "contourcarpet": [
           {
            "colorbar": {
             "outlinewidth": 0,
             "ticks": ""
            },
            "type": "contourcarpet"
           }
          ],
          "heatmap": [
           {
            "colorbar": {
             "outlinewidth": 0,
             "ticks": ""
            },
            "colorscale": [
             [
              0,
              "#0d0887"
             ],
             [
              0.1111111111111111,
              "#46039f"
             ],
             [
              0.2222222222222222,
              "#7201a8"
             ],
             [
              0.3333333333333333,
              "#9c179e"
             ],
             [
              0.4444444444444444,
              "#bd3786"
             ],
             [
              0.5555555555555556,
              "#d8576b"
             ],
             [
              0.6666666666666666,
              "#ed7953"
             ],
             [
              0.7777777777777778,
              "#fb9f3a"
             ],
             [
              0.8888888888888888,
              "#fdca26"
             ],
             [
              1,
              "#f0f921"
             ]
            ],
            "type": "heatmap"
           }
          ],
          "heatmapgl": [
           {
            "colorbar": {
             "outlinewidth": 0,
             "ticks": ""
            },
            "colorscale": [
             [
              0,
              "#0d0887"
             ],
             [
              0.1111111111111111,
              "#46039f"
             ],
             [
              0.2222222222222222,
              "#7201a8"
             ],
             [
              0.3333333333333333,
              "#9c179e"
             ],
             [
              0.4444444444444444,
              "#bd3786"
             ],
             [
              0.5555555555555556,
              "#d8576b"
             ],
             [
              0.6666666666666666,
              "#ed7953"
             ],
             [
              0.7777777777777778,
              "#fb9f3a"
             ],
             [
              0.8888888888888888,
              "#fdca26"
             ],
             [
              1,
              "#f0f921"
             ]
            ],
            "type": "heatmapgl"
           }
          ],
          "histogram": [
           {
            "marker": {
             "colorbar": {
              "outlinewidth": 0,
              "ticks": ""
             }
            },
            "type": "histogram"
           }
          ],
          "histogram2d": [
           {
            "colorbar": {
             "outlinewidth": 0,
             "ticks": ""
            },
            "colorscale": [
             [
              0,
              "#0d0887"
             ],
             [
              0.1111111111111111,
              "#46039f"
             ],
             [
              0.2222222222222222,
              "#7201a8"
             ],
             [
              0.3333333333333333,
              "#9c179e"
             ],
             [
              0.4444444444444444,
              "#bd3786"
             ],
             [
              0.5555555555555556,
              "#d8576b"
             ],
             [
              0.6666666666666666,
              "#ed7953"
             ],
             [
              0.7777777777777778,
              "#fb9f3a"
             ],
             [
              0.8888888888888888,
              "#fdca26"
             ],
             [
              1,
              "#f0f921"
             ]
            ],
            "type": "histogram2d"
           }
          ],
          "histogram2dcontour": [
           {
            "colorbar": {
             "outlinewidth": 0,
             "ticks": ""
            },
            "colorscale": [
             [
              0,
              "#0d0887"
             ],
             [
              0.1111111111111111,
              "#46039f"
             ],
             [
              0.2222222222222222,
              "#7201a8"
             ],
             [
              0.3333333333333333,
              "#9c179e"
             ],
             [
              0.4444444444444444,
              "#bd3786"
             ],
             [
              0.5555555555555556,
              "#d8576b"
             ],
             [
              0.6666666666666666,
              "#ed7953"
             ],
             [
              0.7777777777777778,
              "#fb9f3a"
             ],
             [
              0.8888888888888888,
              "#fdca26"
             ],
             [
              1,
              "#f0f921"
             ]
            ],
            "type": "histogram2dcontour"
           }
          ],
          "mesh3d": [
           {
            "colorbar": {
             "outlinewidth": 0,
             "ticks": ""
            },
            "type": "mesh3d"
           }
          ],
          "parcoords": [
           {
            "line": {
             "colorbar": {
              "outlinewidth": 0,
              "ticks": ""
             }
            },
            "type": "parcoords"
           }
          ],
          "pie": [
           {
            "automargin": true,
            "type": "pie"
           }
          ],
          "scatter": [
           {
            "marker": {
             "colorbar": {
              "outlinewidth": 0,
              "ticks": ""
             }
            },
            "type": "scatter"
           }
          ],
          "scatter3d": [
           {
            "line": {
             "colorbar": {
              "outlinewidth": 0,
              "ticks": ""
             }
            },
            "marker": {
             "colorbar": {
              "outlinewidth": 0,
              "ticks": ""
             }
            },
            "type": "scatter3d"
           }
          ],
          "scattercarpet": [
           {
            "marker": {
             "colorbar": {
              "outlinewidth": 0,
              "ticks": ""
             }
            },
            "type": "scattercarpet"
           }
          ],
          "scattergeo": [
           {
            "marker": {
             "colorbar": {
              "outlinewidth": 0,
              "ticks": ""
             }
            },
            "type": "scattergeo"
           }
          ],
          "scattergl": [
           {
            "marker": {
             "colorbar": {
              "outlinewidth": 0,
              "ticks": ""
             }
            },
            "type": "scattergl"
           }
          ],
          "scattermapbox": [
           {
            "marker": {
             "colorbar": {
              "outlinewidth": 0,
              "ticks": ""
             }
            },
            "type": "scattermapbox"
           }
          ],
          "scatterpolar": [
           {
            "marker": {
             "colorbar": {
              "outlinewidth": 0,
              "ticks": ""
             }
            },
            "type": "scatterpolar"
           }
          ],
          "scatterpolargl": [
           {
            "marker": {
             "colorbar": {
              "outlinewidth": 0,
              "ticks": ""
             }
            },
            "type": "scatterpolargl"
           }
          ],
          "scatterternary": [
           {
            "marker": {
             "colorbar": {
              "outlinewidth": 0,
              "ticks": ""
             }
            },
            "type": "scatterternary"
           }
          ],
          "surface": [
           {
            "colorbar": {
             "outlinewidth": 0,
             "ticks": ""
            },
            "colorscale": [
             [
              0,
              "#0d0887"
             ],
             [
              0.1111111111111111,
              "#46039f"
             ],
             [
              0.2222222222222222,
              "#7201a8"
             ],
             [
              0.3333333333333333,
              "#9c179e"
             ],
             [
              0.4444444444444444,
              "#bd3786"
             ],
             [
              0.5555555555555556,
              "#d8576b"
             ],
             [
              0.6666666666666666,
              "#ed7953"
             ],
             [
              0.7777777777777778,
              "#fb9f3a"
             ],
             [
              0.8888888888888888,
              "#fdca26"
             ],
             [
              1,
              "#f0f921"
             ]
            ],
            "type": "surface"
           }
          ],
          "table": [
           {
            "cells": {
             "fill": {
              "color": "#EBF0F8"
             },
             "line": {
              "color": "white"
             }
            },
            "header": {
             "fill": {
              "color": "#C8D4E3"
             },
             "line": {
              "color": "white"
             }
            },
            "type": "table"
           }
          ]
         },
         "layout": {
          "annotationdefaults": {
           "arrowcolor": "#2a3f5f",
           "arrowhead": 0,
           "arrowwidth": 1
          },
          "coloraxis": {
           "colorbar": {
            "outlinewidth": 0,
            "ticks": ""
           }
          },
          "colorscale": {
           "diverging": [
            [
             0,
             "#8e0152"
            ],
            [
             0.1,
             "#c51b7d"
            ],
            [
             0.2,
             "#de77ae"
            ],
            [
             0.3,
             "#f1b6da"
            ],
            [
             0.4,
             "#fde0ef"
            ],
            [
             0.5,
             "#f7f7f7"
            ],
            [
             0.6,
             "#e6f5d0"
            ],
            [
             0.7,
             "#b8e186"
            ],
            [
             0.8,
             "#7fbc41"
            ],
            [
             0.9,
             "#4d9221"
            ],
            [
             1,
             "#276419"
            ]
           ],
           "sequential": [
            [
             0,
             "#0d0887"
            ],
            [
             0.1111111111111111,
             "#46039f"
            ],
            [
             0.2222222222222222,
             "#7201a8"
            ],
            [
             0.3333333333333333,
             "#9c179e"
            ],
            [
             0.4444444444444444,
             "#bd3786"
            ],
            [
             0.5555555555555556,
             "#d8576b"
            ],
            [
             0.6666666666666666,
             "#ed7953"
            ],
            [
             0.7777777777777778,
             "#fb9f3a"
            ],
            [
             0.8888888888888888,
             "#fdca26"
            ],
            [
             1,
             "#f0f921"
            ]
           ],
           "sequentialminus": [
            [
             0,
             "#0d0887"
            ],
            [
             0.1111111111111111,
             "#46039f"
            ],
            [
             0.2222222222222222,
             "#7201a8"
            ],
            [
             0.3333333333333333,
             "#9c179e"
            ],
            [
             0.4444444444444444,
             "#bd3786"
            ],
            [
             0.5555555555555556,
             "#d8576b"
            ],
            [
             0.6666666666666666,
             "#ed7953"
            ],
            [
             0.7777777777777778,
             "#fb9f3a"
            ],
            [
             0.8888888888888888,
             "#fdca26"
            ],
            [
             1,
             "#f0f921"
            ]
           ]
          },
          "colorway": [
           "#636efa",
           "#EF553B",
           "#00cc96",
           "#ab63fa",
           "#FFA15A",
           "#19d3f3",
           "#FF6692",
           "#B6E880",
           "#FF97FF",
           "#FECB52"
          ],
          "font": {
           "color": "#2a3f5f"
          },
          "geo": {
           "bgcolor": "white",
           "lakecolor": "white",
           "landcolor": "#E5ECF6",
           "showlakes": true,
           "showland": true,
           "subunitcolor": "white"
          },
          "hoverlabel": {
           "align": "left"
          },
          "hovermode": "closest",
          "mapbox": {
           "style": "light"
          },
          "paper_bgcolor": "white",
          "plot_bgcolor": "#E5ECF6",
          "polar": {
           "angularaxis": {
            "gridcolor": "white",
            "linecolor": "white",
            "ticks": ""
           },
           "bgcolor": "#E5ECF6",
           "radialaxis": {
            "gridcolor": "white",
            "linecolor": "white",
            "ticks": ""
           }
          },
          "scene": {
           "xaxis": {
            "backgroundcolor": "#E5ECF6",
            "gridcolor": "white",
            "gridwidth": 2,
            "linecolor": "white",
            "showbackground": true,
            "ticks": "",
            "zerolinecolor": "white"
           },
           "yaxis": {
            "backgroundcolor": "#E5ECF6",
            "gridcolor": "white",
            "gridwidth": 2,
            "linecolor": "white",
            "showbackground": true,
            "ticks": "",
            "zerolinecolor": "white"
           },
           "zaxis": {
            "backgroundcolor": "#E5ECF6",
            "gridcolor": "white",
            "gridwidth": 2,
            "linecolor": "white",
            "showbackground": true,
            "ticks": "",
            "zerolinecolor": "white"
           }
          },
          "shapedefaults": {
           "line": {
            "color": "#2a3f5f"
           }
          },
          "ternary": {
           "aaxis": {
            "gridcolor": "white",
            "linecolor": "white",
            "ticks": ""
           },
           "baxis": {
            "gridcolor": "white",
            "linecolor": "white",
            "ticks": ""
           },
           "bgcolor": "#E5ECF6",
           "caxis": {
            "gridcolor": "white",
            "linecolor": "white",
            "ticks": ""
           }
          },
          "title": {
           "x": 0.05
          },
          "xaxis": {
           "automargin": true,
           "gridcolor": "white",
           "linecolor": "white",
           "ticks": "",
           "title": {
            "standoff": 15
           },
           "zerolinecolor": "white",
           "zerolinewidth": 2
          },
          "yaxis": {
           "automargin": true,
           "gridcolor": "white",
           "linecolor": "white",
           "ticks": "",
           "title": {
            "standoff": 15
           },
           "zerolinecolor": "white",
           "zerolinewidth": 2
          }
         }
        }
       }
      },
      "text/html": [
       "<div>                            <div id=\"6e5bddab-1a51-4b8b-8f6f-bb56f4328f2e\" class=\"plotly-graph-div\" style=\"height:525px; width:100%;\"></div>            <script type=\"text/javascript\">                require([\"plotly\"], function(Plotly) {                    window.PLOTLYENV=window.PLOTLYENV || {};                                    if (document.getElementById(\"6e5bddab-1a51-4b8b-8f6f-bb56f4328f2e\")) {                    Plotly.newPlot(                        \"6e5bddab-1a51-4b8b-8f6f-bb56f4328f2e\",                        [{\"name\": \"Elementary School\", \"type\": \"bar\", \"x\": [\"Kittredge Magnet School\", \"Wadsworth Magnet School\", \"Britt David Magnet Academy\", \"Marietta Center for Advanced Academics\", \"Lake Windward Elementary School\", \"ohns Creek Elementary School\", \"Daves Creek Elementary School\", \"Walker Traditional Elementary School\", \"Settles Bridge Elementary School\", \"Simpson Elementary School\"], \"y\": [108.7, 106.5, 106.0, 104.7, 104.5, 103.5, 103.3, 102.2, 101.4, 101.0]}, {\"name\": \"Middle School\", \"type\": \"bar\", \"x\": [\"Riverwatch Middle School\", \"Dickerson Middle School\", \"Kittredge Magnet School\", \"Robert A. Cross Middle Magnet\", \"Dodgen Middle School\", \"Davidson Magnet School\", \"South Forsyth Middle School\", \"Hightower Trail Middle School\", \"Elite Scholars Academy School\", \"River Trail Middle School\"], \"y\": [103.9, 103.0, 101.9, 101.5, 101.0, 100.7, 100.6, 100.5, 100.1, 99.5]}, {\"name\": \"High School\", \"type\": \"bar\", \"x\": [\"Gwinnett School of Mathematics, Science and Technology\", \"DeKalb Early College Academy\", \"Davidson Magnet School\", \"Elite Scholars Academy School\", \"Academy For Classical Education\", \"Walton High School\", \"Buford High School\", \"North Oconee High School\", \"Lambert High School\", \"Northview High School\"], \"y\": [108.2, 107.1, 105.8, 104.2, 103.3, 101.0, 100.7, 100.6, 100.5, 100.4]}],                        {\"barmode\": \"group\", \"template\": {\"data\": {\"bar\": [{\"error_x\": {\"color\": \"#2a3f5f\"}, \"error_y\": {\"color\": \"#2a3f5f\"}, \"marker\": {\"line\": {\"color\": \"#E5ECF6\", \"width\": 0.5}}, \"type\": \"bar\"}], \"barpolar\": [{\"marker\": {\"line\": {\"color\": \"#E5ECF6\", \"width\": 0.5}}, \"type\": \"barpolar\"}], \"carpet\": [{\"aaxis\": {\"endlinecolor\": \"#2a3f5f\", \"gridcolor\": \"white\", \"linecolor\": \"white\", \"minorgridcolor\": \"white\", \"startlinecolor\": \"#2a3f5f\"}, \"baxis\": {\"endlinecolor\": \"#2a3f5f\", \"gridcolor\": \"white\", \"linecolor\": \"white\", \"minorgridcolor\": \"white\", \"startlinecolor\": \"#2a3f5f\"}, \"type\": \"carpet\"}], \"choropleth\": [{\"colorbar\": {\"outlinewidth\": 0, \"ticks\": \"\"}, \"type\": \"choropleth\"}], \"contour\": [{\"colorbar\": {\"outlinewidth\": 0, \"ticks\": \"\"}, \"colorscale\": [[0.0, \"#0d0887\"], [0.1111111111111111, \"#46039f\"], [0.2222222222222222, \"#7201a8\"], [0.3333333333333333, \"#9c179e\"], [0.4444444444444444, \"#bd3786\"], [0.5555555555555556, \"#d8576b\"], [0.6666666666666666, \"#ed7953\"], [0.7777777777777778, \"#fb9f3a\"], [0.8888888888888888, \"#fdca26\"], [1.0, \"#f0f921\"]], \"type\": \"contour\"}], \"contourcarpet\": [{\"colorbar\": {\"outlinewidth\": 0, \"ticks\": \"\"}, \"type\": \"contourcarpet\"}], \"heatmap\": [{\"colorbar\": {\"outlinewidth\": 0, \"ticks\": \"\"}, \"colorscale\": [[0.0, \"#0d0887\"], [0.1111111111111111, \"#46039f\"], [0.2222222222222222, \"#7201a8\"], [0.3333333333333333, \"#9c179e\"], [0.4444444444444444, \"#bd3786\"], [0.5555555555555556, \"#d8576b\"], [0.6666666666666666, \"#ed7953\"], [0.7777777777777778, \"#fb9f3a\"], [0.8888888888888888, \"#fdca26\"], [1.0, \"#f0f921\"]], \"type\": \"heatmap\"}], \"heatmapgl\": [{\"colorbar\": {\"outlinewidth\": 0, \"ticks\": \"\"}, \"colorscale\": [[0.0, \"#0d0887\"], [0.1111111111111111, \"#46039f\"], [0.2222222222222222, \"#7201a8\"], [0.3333333333333333, \"#9c179e\"], [0.4444444444444444, \"#bd3786\"], [0.5555555555555556, \"#d8576b\"], [0.6666666666666666, \"#ed7953\"], [0.7777777777777778, \"#fb9f3a\"], [0.8888888888888888, \"#fdca26\"], [1.0, \"#f0f921\"]], \"type\": \"heatmapgl\"}], \"histogram\": [{\"marker\": {\"colorbar\": {\"outlinewidth\": 0, \"ticks\": \"\"}}, \"type\": \"histogram\"}], \"histogram2d\": [{\"colorbar\": {\"outlinewidth\": 0, \"ticks\": \"\"}, \"colorscale\": [[0.0, \"#0d0887\"], [0.1111111111111111, \"#46039f\"], [0.2222222222222222, \"#7201a8\"], [0.3333333333333333, \"#9c179e\"], [0.4444444444444444, \"#bd3786\"], [0.5555555555555556, \"#d8576b\"], [0.6666666666666666, \"#ed7953\"], [0.7777777777777778, \"#fb9f3a\"], [0.8888888888888888, \"#fdca26\"], [1.0, \"#f0f921\"]], \"type\": \"histogram2d\"}], \"histogram2dcontour\": [{\"colorbar\": {\"outlinewidth\": 0, \"ticks\": \"\"}, \"colorscale\": [[0.0, \"#0d0887\"], [0.1111111111111111, \"#46039f\"], [0.2222222222222222, \"#7201a8\"], [0.3333333333333333, \"#9c179e\"], [0.4444444444444444, \"#bd3786\"], [0.5555555555555556, \"#d8576b\"], [0.6666666666666666, \"#ed7953\"], [0.7777777777777778, \"#fb9f3a\"], [0.8888888888888888, \"#fdca26\"], [1.0, \"#f0f921\"]], \"type\": \"histogram2dcontour\"}], \"mesh3d\": [{\"colorbar\": {\"outlinewidth\": 0, \"ticks\": \"\"}, \"type\": \"mesh3d\"}], \"parcoords\": [{\"line\": {\"colorbar\": {\"outlinewidth\": 0, \"ticks\": \"\"}}, \"type\": \"parcoords\"}], \"pie\": [{\"automargin\": true, \"type\": \"pie\"}], \"scatter\": [{\"marker\": {\"colorbar\": {\"outlinewidth\": 0, \"ticks\": \"\"}}, \"type\": \"scatter\"}], \"scatter3d\": [{\"line\": {\"colorbar\": {\"outlinewidth\": 0, \"ticks\": \"\"}}, \"marker\": {\"colorbar\": {\"outlinewidth\": 0, \"ticks\": \"\"}}, \"type\": \"scatter3d\"}], \"scattercarpet\": [{\"marker\": {\"colorbar\": {\"outlinewidth\": 0, \"ticks\": \"\"}}, \"type\": \"scattercarpet\"}], \"scattergeo\": [{\"marker\": {\"colorbar\": {\"outlinewidth\": 0, \"ticks\": \"\"}}, \"type\": \"scattergeo\"}], \"scattergl\": [{\"marker\": {\"colorbar\": {\"outlinewidth\": 0, \"ticks\": \"\"}}, \"type\": \"scattergl\"}], \"scattermapbox\": [{\"marker\": {\"colorbar\": {\"outlinewidth\": 0, \"ticks\": \"\"}}, \"type\": \"scattermapbox\"}], \"scatterpolar\": [{\"marker\": {\"colorbar\": {\"outlinewidth\": 0, \"ticks\": \"\"}}, \"type\": \"scatterpolar\"}], \"scatterpolargl\": [{\"marker\": {\"colorbar\": {\"outlinewidth\": 0, \"ticks\": \"\"}}, \"type\": \"scatterpolargl\"}], \"scatterternary\": [{\"marker\": {\"colorbar\": {\"outlinewidth\": 0, \"ticks\": \"\"}}, \"type\": \"scatterternary\"}], \"surface\": [{\"colorbar\": {\"outlinewidth\": 0, \"ticks\": \"\"}, \"colorscale\": [[0.0, \"#0d0887\"], [0.1111111111111111, \"#46039f\"], [0.2222222222222222, \"#7201a8\"], [0.3333333333333333, \"#9c179e\"], [0.4444444444444444, \"#bd3786\"], [0.5555555555555556, \"#d8576b\"], [0.6666666666666666, \"#ed7953\"], [0.7777777777777778, \"#fb9f3a\"], [0.8888888888888888, \"#fdca26\"], [1.0, \"#f0f921\"]], \"type\": \"surface\"}], \"table\": [{\"cells\": {\"fill\": {\"color\": \"#EBF0F8\"}, \"line\": {\"color\": \"white\"}}, \"header\": {\"fill\": {\"color\": \"#C8D4E3\"}, \"line\": {\"color\": \"white\"}}, \"type\": \"table\"}]}, \"layout\": {\"annotationdefaults\": {\"arrowcolor\": \"#2a3f5f\", \"arrowhead\": 0, \"arrowwidth\": 1}, \"coloraxis\": {\"colorbar\": {\"outlinewidth\": 0, \"ticks\": \"\"}}, \"colorscale\": {\"diverging\": [[0, \"#8e0152\"], [0.1, \"#c51b7d\"], [0.2, \"#de77ae\"], [0.3, \"#f1b6da\"], [0.4, \"#fde0ef\"], [0.5, \"#f7f7f7\"], [0.6, \"#e6f5d0\"], [0.7, \"#b8e186\"], [0.8, \"#7fbc41\"], [0.9, \"#4d9221\"], [1, \"#276419\"]], \"sequential\": [[0.0, \"#0d0887\"], [0.1111111111111111, \"#46039f\"], [0.2222222222222222, \"#7201a8\"], [0.3333333333333333, \"#9c179e\"], [0.4444444444444444, \"#bd3786\"], [0.5555555555555556, \"#d8576b\"], [0.6666666666666666, \"#ed7953\"], [0.7777777777777778, \"#fb9f3a\"], [0.8888888888888888, \"#fdca26\"], [1.0, \"#f0f921\"]], \"sequentialminus\": [[0.0, \"#0d0887\"], [0.1111111111111111, \"#46039f\"], [0.2222222222222222, \"#7201a8\"], [0.3333333333333333, \"#9c179e\"], [0.4444444444444444, \"#bd3786\"], [0.5555555555555556, \"#d8576b\"], [0.6666666666666666, \"#ed7953\"], [0.7777777777777778, \"#fb9f3a\"], [0.8888888888888888, \"#fdca26\"], [1.0, \"#f0f921\"]]}, \"colorway\": [\"#636efa\", \"#EF553B\", \"#00cc96\", \"#ab63fa\", \"#FFA15A\", \"#19d3f3\", \"#FF6692\", \"#B6E880\", \"#FF97FF\", \"#FECB52\"], \"font\": {\"color\": \"#2a3f5f\"}, \"geo\": {\"bgcolor\": \"white\", \"lakecolor\": \"white\", \"landcolor\": \"#E5ECF6\", \"showlakes\": true, \"showland\": true, \"subunitcolor\": \"white\"}, \"hoverlabel\": {\"align\": \"left\"}, \"hovermode\": \"closest\", \"mapbox\": {\"style\": \"light\"}, \"paper_bgcolor\": \"white\", \"plot_bgcolor\": \"#E5ECF6\", \"polar\": {\"angularaxis\": {\"gridcolor\": \"white\", \"linecolor\": \"white\", \"ticks\": \"\"}, \"bgcolor\": \"#E5ECF6\", \"radialaxis\": {\"gridcolor\": \"white\", \"linecolor\": \"white\", \"ticks\": \"\"}}, \"scene\": {\"xaxis\": {\"backgroundcolor\": \"#E5ECF6\", \"gridcolor\": \"white\", \"gridwidth\": 2, \"linecolor\": \"white\", \"showbackground\": true, \"ticks\": \"\", \"zerolinecolor\": \"white\"}, \"yaxis\": {\"backgroundcolor\": \"#E5ECF6\", \"gridcolor\": \"white\", \"gridwidth\": 2, \"linecolor\": \"white\", \"showbackground\": true, \"ticks\": \"\", \"zerolinecolor\": \"white\"}, \"zaxis\": {\"backgroundcolor\": \"#E5ECF6\", \"gridcolor\": \"white\", \"gridwidth\": 2, \"linecolor\": \"white\", \"showbackground\": true, \"ticks\": \"\", \"zerolinecolor\": \"white\"}}, \"shapedefaults\": {\"line\": {\"color\": \"#2a3f5f\"}}, \"ternary\": {\"aaxis\": {\"gridcolor\": \"white\", \"linecolor\": \"white\", \"ticks\": \"\"}, \"baxis\": {\"gridcolor\": \"white\", \"linecolor\": \"white\", \"ticks\": \"\"}, \"bgcolor\": \"#E5ECF6\", \"caxis\": {\"gridcolor\": \"white\", \"linecolor\": \"white\", \"ticks\": \"\"}}, \"title\": {\"x\": 0.05}, \"xaxis\": {\"automargin\": true, \"gridcolor\": \"white\", \"linecolor\": \"white\", \"ticks\": \"\", \"title\": {\"standoff\": 15}, \"zerolinecolor\": \"white\", \"zerolinewidth\": 2}, \"yaxis\": {\"automargin\": true, \"gridcolor\": \"white\", \"linecolor\": \"white\", \"ticks\": \"\", \"title\": {\"standoff\": 15}, \"zerolinecolor\": \"white\", \"zerolinewidth\": 2}}}},                        {\"responsive\": true}                    ).then(function(){\n",
       "                            \n",
       "var gd = document.getElementById('6e5bddab-1a51-4b8b-8f6f-bb56f4328f2e');\n",
       "var x = new MutationObserver(function (mutations, observer) {{\n",
       "        var display = window.getComputedStyle(gd).display;\n",
       "        if (!display || display === 'none') {{\n",
       "            console.log([gd, 'removed!']);\n",
       "            Plotly.purge(gd);\n",
       "            observer.disconnect();\n",
       "        }}\n",
       "}});\n",
       "\n",
       "// Listen for the removal of the full notebook cells\n",
       "var notebookContainer = gd.closest('#notebook-container');\n",
       "if (notebookContainer) {{\n",
       "    x.observe(notebookContainer, {childList: true});\n",
       "}}\n",
       "\n",
       "// Listen for the clearing of the current output cell\n",
       "var outputEl = gd.closest('.output');\n",
       "if (outputEl) {{\n",
       "    x.observe(outputEl, {childList: true});\n",
       "}}\n",
       "\n",
       "                        })                };                });            </script>        </div>"
      ]
     },
     "metadata": {},
     "output_type": "display_data"
    }
   ],
   "source": [
    "#Schools=['1st', '2nd', '3rd','4th', '5th', '6th','7th', '8th', '9th', '10th']\n",
    "Elm_Schools=['Kittredge Magnet School', 'Wadsworth Magnet School', 'Britt David Magnet Academy','Marietta Center for Advanced Academics', 'Lake Windward Elementary School', 'ohns Creek Elementary School','Daves Creek Elementary School', 'Walker Traditional Elementary School', 'Settles Bridge Elementary School', 'Simpson Elementary School']\n",
    "Middle_Schools=['Riverwatch Middle School', 'Dickerson Middle School', 'Kittredge Magnet School','Robert A. Cross Middle Magnet', 'Dodgen Middle School', 'Davidson Magnet School','South Forsyth Middle School', 'Hightower Trail Middle School', 'Elite Scholars Academy School', 'River Trail Middle School']\n",
    "High_Schools=['Gwinnett School of Mathematics, Science and Technology', 'DeKalb Early College Academy', 'Davidson Magnet School','Elite Scholars Academy School', 'Academy For Classical Education', 'Walton High School','Buford High School', 'North Oconee High School', 'Lambert High School', 'Northview High School']\n",
    "\n",
    "\n",
    "fig = go.Figure(data=[\n",
    "    go.Bar(name='Elementary School', x=Elm_Schools, y=[108.7, 106.5, 106.0, 104.7, 104.5, 103.5, 103.3, 102.2, 101.4, 101.0]),\n",
    "    go.Bar(name='Middle School', x=Middle_Schools, y=[103.9, 103.0, 101.9, 101.5, 101.0, 100.7, 100.6, 100.5, 100.1, 99.5]),\n",
    "    go.Bar(name='High School', x=High_Schools, y=[108.2, 107.1, 105.8, 104.2, 103.3, 101.0, 100.7, 100.6, 100.5, 100.4]),\n",
    "])\n",
    "\n",
    "fig.update_layout(barmode='group')\n",
    "fig.show()"
   ]
  },
  {
   "cell_type": "code",
   "execution_count": 16,
   "metadata": {},
   "outputs": [
    {
     "data": {
      "application/vnd.plotly.v1+json": {
       "config": {
        "plotlyServerURL": "https://plot.ly"
       },
       "data": [
        {
         "marker": {
          "color": "rgb(0, 191, 255)"
         },
         "name": "Elementary Schools",
         "type": "bar",
         "x": [
          "Kittredge Magnet School",
          "Wadsworth Magnet School",
          "Britt David Magnet Academy",
          "Marietta Center for Advanced Academics",
          "Lake Windward Elementary School",
          "ohns Creek Elementary School",
          "Daves Creek Elementary School",
          "Walker Traditional Elementary School",
          "Settles Bridge Elementary School",
          "Simpson Elementary School"
         ],
         "y": [
          108.7,
          106.5,
          106,
          104.7,
          104.5,
          103.5,
          103.3,
          102.2,
          101.4,
          101
         ]
        },
        {
         "marker": {
          "color": "rgb(0, 191, 34)"
         },
         "name": "Middle School",
         "type": "bar",
         "x": [
          "Riverwatch Middle School",
          "Dickerson Middle School",
          "Kittredge Magnet School",
          "Robert A. Cross Middle Magnet",
          "Dodgen Middle School",
          "Davidson Magnet School",
          "South Forsyth Middle School",
          "Hightower Trail Middle School",
          "Elite Scholars Academy School",
          "River Trail Middle School"
         ],
         "y": [
          103.9,
          103,
          101.9,
          101.5,
          101,
          100.7,
          100.6,
          100.5,
          100.1,
          99.5
         ]
        },
        {
         "marker": {
          "color": "rgb(254, 101, 34)"
         },
         "name": "High School",
         "type": "bar",
         "x": [
          "Gwinnett School of Mathematics, Science and Technology",
          "DeKalb Early College Academy",
          "Davidson Magnet School",
          "Elite Scholars Academy School",
          "Academy For Classical Education",
          "Walton High School",
          "Buford High School",
          "North Oconee High School",
          "Lambert High School",
          "Northview High School"
         ],
         "y": [
          108.2,
          107.1,
          105.8,
          104.2,
          103.3,
          101,
          100.7,
          100.6,
          100.5,
          100.4
         ]
        }
       ],
       "layout": {
        "bargap": 0.15,
        "bargroupgap": 0.1,
        "barmode": "group",
        "legend": {
         "bgcolor": "rgba(255, 255, 255, 0)",
         "bordercolor": "rgba(255, 255, 255, 0)",
         "x": 1,
         "y": 1
        },
        "template": {
         "data": {
          "bar": [
           {
            "error_x": {
             "color": "#2a3f5f"
            },
            "error_y": {
             "color": "#2a3f5f"
            },
            "marker": {
             "line": {
              "color": "#E5ECF6",
              "width": 0.5
             }
            },
            "type": "bar"
           }
          ],
          "barpolar": [
           {
            "marker": {
             "line": {
              "color": "#E5ECF6",
              "width": 0.5
             }
            },
            "type": "barpolar"
           }
          ],
          "carpet": [
           {
            "aaxis": {
             "endlinecolor": "#2a3f5f",
             "gridcolor": "white",
             "linecolor": "white",
             "minorgridcolor": "white",
             "startlinecolor": "#2a3f5f"
            },
            "baxis": {
             "endlinecolor": "#2a3f5f",
             "gridcolor": "white",
             "linecolor": "white",
             "minorgridcolor": "white",
             "startlinecolor": "#2a3f5f"
            },
            "type": "carpet"
           }
          ],
          "choropleth": [
           {
            "colorbar": {
             "outlinewidth": 0,
             "ticks": ""
            },
            "type": "choropleth"
           }
          ],
          "contour": [
           {
            "colorbar": {
             "outlinewidth": 0,
             "ticks": ""
            },
            "colorscale": [
             [
              0,
              "#0d0887"
             ],
             [
              0.1111111111111111,
              "#46039f"
             ],
             [
              0.2222222222222222,
              "#7201a8"
             ],
             [
              0.3333333333333333,
              "#9c179e"
             ],
             [
              0.4444444444444444,
              "#bd3786"
             ],
             [
              0.5555555555555556,
              "#d8576b"
             ],
             [
              0.6666666666666666,
              "#ed7953"
             ],
             [
              0.7777777777777778,
              "#fb9f3a"
             ],
             [
              0.8888888888888888,
              "#fdca26"
             ],
             [
              1,
              "#f0f921"
             ]
            ],
            "type": "contour"
           }
          ],
          "contourcarpet": [
           {
            "colorbar": {
             "outlinewidth": 0,
             "ticks": ""
            },
            "type": "contourcarpet"
           }
          ],
          "heatmap": [
           {
            "colorbar": {
             "outlinewidth": 0,
             "ticks": ""
            },
            "colorscale": [
             [
              0,
              "#0d0887"
             ],
             [
              0.1111111111111111,
              "#46039f"
             ],
             [
              0.2222222222222222,
              "#7201a8"
             ],
             [
              0.3333333333333333,
              "#9c179e"
             ],
             [
              0.4444444444444444,
              "#bd3786"
             ],
             [
              0.5555555555555556,
              "#d8576b"
             ],
             [
              0.6666666666666666,
              "#ed7953"
             ],
             [
              0.7777777777777778,
              "#fb9f3a"
             ],
             [
              0.8888888888888888,
              "#fdca26"
             ],
             [
              1,
              "#f0f921"
             ]
            ],
            "type": "heatmap"
           }
          ],
          "heatmapgl": [
           {
            "colorbar": {
             "outlinewidth": 0,
             "ticks": ""
            },
            "colorscale": [
             [
              0,
              "#0d0887"
             ],
             [
              0.1111111111111111,
              "#46039f"
             ],
             [
              0.2222222222222222,
              "#7201a8"
             ],
             [
              0.3333333333333333,
              "#9c179e"
             ],
             [
              0.4444444444444444,
              "#bd3786"
             ],
             [
              0.5555555555555556,
              "#d8576b"
             ],
             [
              0.6666666666666666,
              "#ed7953"
             ],
             [
              0.7777777777777778,
              "#fb9f3a"
             ],
             [
              0.8888888888888888,
              "#fdca26"
             ],
             [
              1,
              "#f0f921"
             ]
            ],
            "type": "heatmapgl"
           }
          ],
          "histogram": [
           {
            "marker": {
             "colorbar": {
              "outlinewidth": 0,
              "ticks": ""
             }
            },
            "type": "histogram"
           }
          ],
          "histogram2d": [
           {
            "colorbar": {
             "outlinewidth": 0,
             "ticks": ""
            },
            "colorscale": [
             [
              0,
              "#0d0887"
             ],
             [
              0.1111111111111111,
              "#46039f"
             ],
             [
              0.2222222222222222,
              "#7201a8"
             ],
             [
              0.3333333333333333,
              "#9c179e"
             ],
             [
              0.4444444444444444,
              "#bd3786"
             ],
             [
              0.5555555555555556,
              "#d8576b"
             ],
             [
              0.6666666666666666,
              "#ed7953"
             ],
             [
              0.7777777777777778,
              "#fb9f3a"
             ],
             [
              0.8888888888888888,
              "#fdca26"
             ],
             [
              1,
              "#f0f921"
             ]
            ],
            "type": "histogram2d"
           }
          ],
          "histogram2dcontour": [
           {
            "colorbar": {
             "outlinewidth": 0,
             "ticks": ""
            },
            "colorscale": [
             [
              0,
              "#0d0887"
             ],
             [
              0.1111111111111111,
              "#46039f"
             ],
             [
              0.2222222222222222,
              "#7201a8"
             ],
             [
              0.3333333333333333,
              "#9c179e"
             ],
             [
              0.4444444444444444,
              "#bd3786"
             ],
             [
              0.5555555555555556,
              "#d8576b"
             ],
             [
              0.6666666666666666,
              "#ed7953"
             ],
             [
              0.7777777777777778,
              "#fb9f3a"
             ],
             [
              0.8888888888888888,
              "#fdca26"
             ],
             [
              1,
              "#f0f921"
             ]
            ],
            "type": "histogram2dcontour"
           }
          ],
          "mesh3d": [
           {
            "colorbar": {
             "outlinewidth": 0,
             "ticks": ""
            },
            "type": "mesh3d"
           }
          ],
          "parcoords": [
           {
            "line": {
             "colorbar": {
              "outlinewidth": 0,
              "ticks": ""
             }
            },
            "type": "parcoords"
           }
          ],
          "pie": [
           {
            "automargin": true,
            "type": "pie"
           }
          ],
          "scatter": [
           {
            "marker": {
             "colorbar": {
              "outlinewidth": 0,
              "ticks": ""
             }
            },
            "type": "scatter"
           }
          ],
          "scatter3d": [
           {
            "line": {
             "colorbar": {
              "outlinewidth": 0,
              "ticks": ""
             }
            },
            "marker": {
             "colorbar": {
              "outlinewidth": 0,
              "ticks": ""
             }
            },
            "type": "scatter3d"
           }
          ],
          "scattercarpet": [
           {
            "marker": {
             "colorbar": {
              "outlinewidth": 0,
              "ticks": ""
             }
            },
            "type": "scattercarpet"
           }
          ],
          "scattergeo": [
           {
            "marker": {
             "colorbar": {
              "outlinewidth": 0,
              "ticks": ""
             }
            },
            "type": "scattergeo"
           }
          ],
          "scattergl": [
           {
            "marker": {
             "colorbar": {
              "outlinewidth": 0,
              "ticks": ""
             }
            },
            "type": "scattergl"
           }
          ],
          "scattermapbox": [
           {
            "marker": {
             "colorbar": {
              "outlinewidth": 0,
              "ticks": ""
             }
            },
            "type": "scattermapbox"
           }
          ],
          "scatterpolar": [
           {
            "marker": {
             "colorbar": {
              "outlinewidth": 0,
              "ticks": ""
             }
            },
            "type": "scatterpolar"
           }
          ],
          "scatterpolargl": [
           {
            "marker": {
             "colorbar": {
              "outlinewidth": 0,
              "ticks": ""
             }
            },
            "type": "scatterpolargl"
           }
          ],
          "scatterternary": [
           {
            "marker": {
             "colorbar": {
              "outlinewidth": 0,
              "ticks": ""
             }
            },
            "type": "scatterternary"
           }
          ],
          "surface": [
           {
            "colorbar": {
             "outlinewidth": 0,
             "ticks": ""
            },
            "colorscale": [
             [
              0,
              "#0d0887"
             ],
             [
              0.1111111111111111,
              "#46039f"
             ],
             [
              0.2222222222222222,
              "#7201a8"
             ],
             [
              0.3333333333333333,
              "#9c179e"
             ],
             [
              0.4444444444444444,
              "#bd3786"
             ],
             [
              0.5555555555555556,
              "#d8576b"
             ],
             [
              0.6666666666666666,
              "#ed7953"
             ],
             [
              0.7777777777777778,
              "#fb9f3a"
             ],
             [
              0.8888888888888888,
              "#fdca26"
             ],
             [
              1,
              "#f0f921"
             ]
            ],
            "type": "surface"
           }
          ],
          "table": [
           {
            "cells": {
             "fill": {
              "color": "#EBF0F8"
             },
             "line": {
              "color": "white"
             }
            },
            "header": {
             "fill": {
              "color": "#C8D4E3"
             },
             "line": {
              "color": "white"
             }
            },
            "type": "table"
           }
          ]
         },
         "layout": {
          "annotationdefaults": {
           "arrowcolor": "#2a3f5f",
           "arrowhead": 0,
           "arrowwidth": 1
          },
          "coloraxis": {
           "colorbar": {
            "outlinewidth": 0,
            "ticks": ""
           }
          },
          "colorscale": {
           "diverging": [
            [
             0,
             "#8e0152"
            ],
            [
             0.1,
             "#c51b7d"
            ],
            [
             0.2,
             "#de77ae"
            ],
            [
             0.3,
             "#f1b6da"
            ],
            [
             0.4,
             "#fde0ef"
            ],
            [
             0.5,
             "#f7f7f7"
            ],
            [
             0.6,
             "#e6f5d0"
            ],
            [
             0.7,
             "#b8e186"
            ],
            [
             0.8,
             "#7fbc41"
            ],
            [
             0.9,
             "#4d9221"
            ],
            [
             1,
             "#276419"
            ]
           ],
           "sequential": [
            [
             0,
             "#0d0887"
            ],
            [
             0.1111111111111111,
             "#46039f"
            ],
            [
             0.2222222222222222,
             "#7201a8"
            ],
            [
             0.3333333333333333,
             "#9c179e"
            ],
            [
             0.4444444444444444,
             "#bd3786"
            ],
            [
             0.5555555555555556,
             "#d8576b"
            ],
            [
             0.6666666666666666,
             "#ed7953"
            ],
            [
             0.7777777777777778,
             "#fb9f3a"
            ],
            [
             0.8888888888888888,
             "#fdca26"
            ],
            [
             1,
             "#f0f921"
            ]
           ],
           "sequentialminus": [
            [
             0,
             "#0d0887"
            ],
            [
             0.1111111111111111,
             "#46039f"
            ],
            [
             0.2222222222222222,
             "#7201a8"
            ],
            [
             0.3333333333333333,
             "#9c179e"
            ],
            [
             0.4444444444444444,
             "#bd3786"
            ],
            [
             0.5555555555555556,
             "#d8576b"
            ],
            [
             0.6666666666666666,
             "#ed7953"
            ],
            [
             0.7777777777777778,
             "#fb9f3a"
            ],
            [
             0.8888888888888888,
             "#fdca26"
            ],
            [
             1,
             "#f0f921"
            ]
           ]
          },
          "colorway": [
           "#636efa",
           "#EF553B",
           "#00cc96",
           "#ab63fa",
           "#FFA15A",
           "#19d3f3",
           "#FF6692",
           "#B6E880",
           "#FF97FF",
           "#FECB52"
          ],
          "font": {
           "color": "#2a3f5f"
          },
          "geo": {
           "bgcolor": "white",
           "lakecolor": "white",
           "landcolor": "#E5ECF6",
           "showlakes": true,
           "showland": true,
           "subunitcolor": "white"
          },
          "hoverlabel": {
           "align": "left"
          },
          "hovermode": "closest",
          "mapbox": {
           "style": "light"
          },
          "paper_bgcolor": "white",
          "plot_bgcolor": "#E5ECF6",
          "polar": {
           "angularaxis": {
            "gridcolor": "white",
            "linecolor": "white",
            "ticks": ""
           },
           "bgcolor": "#E5ECF6",
           "radialaxis": {
            "gridcolor": "white",
            "linecolor": "white",
            "ticks": ""
           }
          },
          "scene": {
           "xaxis": {
            "backgroundcolor": "#E5ECF6",
            "gridcolor": "white",
            "gridwidth": 2,
            "linecolor": "white",
            "showbackground": true,
            "ticks": "",
            "zerolinecolor": "white"
           },
           "yaxis": {
            "backgroundcolor": "#E5ECF6",
            "gridcolor": "white",
            "gridwidth": 2,
            "linecolor": "white",
            "showbackground": true,
            "ticks": "",
            "zerolinecolor": "white"
           },
           "zaxis": {
            "backgroundcolor": "#E5ECF6",
            "gridcolor": "white",
            "gridwidth": 2,
            "linecolor": "white",
            "showbackground": true,
            "ticks": "",
            "zerolinecolor": "white"
           }
          },
          "shapedefaults": {
           "line": {
            "color": "#2a3f5f"
           }
          },
          "ternary": {
           "aaxis": {
            "gridcolor": "white",
            "linecolor": "white",
            "ticks": ""
           },
           "baxis": {
            "gridcolor": "white",
            "linecolor": "white",
            "ticks": ""
           },
           "bgcolor": "#E5ECF6",
           "caxis": {
            "gridcolor": "white",
            "linecolor": "white",
            "ticks": ""
           }
          },
          "title": {
           "x": 0.05
          },
          "xaxis": {
           "automargin": true,
           "gridcolor": "white",
           "linecolor": "white",
           "ticks": "",
           "title": {
            "standoff": 15
           },
           "zerolinecolor": "white",
           "zerolinewidth": 2
          },
          "yaxis": {
           "automargin": true,
           "gridcolor": "white",
           "linecolor": "white",
           "ticks": "",
           "title": {
            "standoff": 15
           },
           "zerolinecolor": "white",
           "zerolinewidth": 2
          }
         }
        },
        "title": {
         "text": "Best Schools in Atlanta"
        },
        "xaxis": {
         "tickfont": {
          "size": 8
         }
        },
        "yaxis": {
         "tickfont": {
          "size": 14
         },
         "title": {
          "font": {
           "size": 14
          },
          "text": "CCRPIScores(College Readiness Scores)"
         }
        }
       }
      },
      "text/html": [
       "<div>                            <div id=\"a7d32c74-3726-437d-9ee5-d54b4fa1d57b\" class=\"plotly-graph-div\" style=\"height:525px; width:100%;\"></div>            <script type=\"text/javascript\">                require([\"plotly\"], function(Plotly) {                    window.PLOTLYENV=window.PLOTLYENV || {};                                    if (document.getElementById(\"a7d32c74-3726-437d-9ee5-d54b4fa1d57b\")) {                    Plotly.newPlot(                        \"a7d32c74-3726-437d-9ee5-d54b4fa1d57b\",                        [{\"marker\": {\"color\": \"rgb(0, 191, 255)\"}, \"name\": \"Elementary Schools\", \"type\": \"bar\", \"x\": [\"Kittredge Magnet School\", \"Wadsworth Magnet School\", \"Britt David Magnet Academy\", \"Marietta Center for Advanced Academics\", \"Lake Windward Elementary School\", \"ohns Creek Elementary School\", \"Daves Creek Elementary School\", \"Walker Traditional Elementary School\", \"Settles Bridge Elementary School\", \"Simpson Elementary School\"], \"y\": [108.7, 106.5, 106.0, 104.7, 104.5, 103.5, 103.3, 102.2, 101.4, 101.0]}, {\"marker\": {\"color\": \"rgb(0, 191, 34)\"}, \"name\": \"Middle School\", \"type\": \"bar\", \"x\": [\"Riverwatch Middle School\", \"Dickerson Middle School\", \"Kittredge Magnet School\", \"Robert A. Cross Middle Magnet\", \"Dodgen Middle School\", \"Davidson Magnet School\", \"South Forsyth Middle School\", \"Hightower Trail Middle School\", \"Elite Scholars Academy School\", \"River Trail Middle School\"], \"y\": [103.9, 103.0, 101.9, 101.5, 101.0, 100.7, 100.6, 100.5, 100.1, 99.5]}, {\"marker\": {\"color\": \"rgb(254, 101, 34)\"}, \"name\": \"High School\", \"type\": \"bar\", \"x\": [\"Gwinnett School of Mathematics, Science and Technology\", \"DeKalb Early College Academy\", \"Davidson Magnet School\", \"Elite Scholars Academy School\", \"Academy For Classical Education\", \"Walton High School\", \"Buford High School\", \"North Oconee High School\", \"Lambert High School\", \"Northview High School\"], \"y\": [108.2, 107.1, 105.8, 104.2, 103.3, 101.0, 100.7, 100.6, 100.5, 100.4]}],                        {\"bargap\": 0.15, \"bargroupgap\": 0.1, \"barmode\": \"group\", \"legend\": {\"bgcolor\": \"rgba(255, 255, 255, 0)\", \"bordercolor\": \"rgba(255, 255, 255, 0)\", \"x\": 1.0, \"y\": 1.0}, \"template\": {\"data\": {\"bar\": [{\"error_x\": {\"color\": \"#2a3f5f\"}, \"error_y\": {\"color\": \"#2a3f5f\"}, \"marker\": {\"line\": {\"color\": \"#E5ECF6\", \"width\": 0.5}}, \"type\": \"bar\"}], \"barpolar\": [{\"marker\": {\"line\": {\"color\": \"#E5ECF6\", \"width\": 0.5}}, \"type\": \"barpolar\"}], \"carpet\": [{\"aaxis\": {\"endlinecolor\": \"#2a3f5f\", \"gridcolor\": \"white\", \"linecolor\": \"white\", \"minorgridcolor\": \"white\", \"startlinecolor\": \"#2a3f5f\"}, \"baxis\": {\"endlinecolor\": \"#2a3f5f\", \"gridcolor\": \"white\", \"linecolor\": \"white\", \"minorgridcolor\": \"white\", \"startlinecolor\": \"#2a3f5f\"}, \"type\": \"carpet\"}], \"choropleth\": [{\"colorbar\": {\"outlinewidth\": 0, \"ticks\": \"\"}, \"type\": \"choropleth\"}], \"contour\": [{\"colorbar\": {\"outlinewidth\": 0, \"ticks\": \"\"}, \"colorscale\": [[0.0, \"#0d0887\"], [0.1111111111111111, \"#46039f\"], [0.2222222222222222, \"#7201a8\"], [0.3333333333333333, \"#9c179e\"], [0.4444444444444444, \"#bd3786\"], [0.5555555555555556, \"#d8576b\"], [0.6666666666666666, \"#ed7953\"], [0.7777777777777778, \"#fb9f3a\"], [0.8888888888888888, \"#fdca26\"], [1.0, \"#f0f921\"]], \"type\": \"contour\"}], \"contourcarpet\": [{\"colorbar\": {\"outlinewidth\": 0, \"ticks\": \"\"}, \"type\": \"contourcarpet\"}], \"heatmap\": [{\"colorbar\": {\"outlinewidth\": 0, \"ticks\": \"\"}, \"colorscale\": [[0.0, \"#0d0887\"], [0.1111111111111111, \"#46039f\"], [0.2222222222222222, \"#7201a8\"], [0.3333333333333333, \"#9c179e\"], [0.4444444444444444, \"#bd3786\"], [0.5555555555555556, \"#d8576b\"], [0.6666666666666666, \"#ed7953\"], [0.7777777777777778, \"#fb9f3a\"], [0.8888888888888888, \"#fdca26\"], [1.0, \"#f0f921\"]], \"type\": \"heatmap\"}], \"heatmapgl\": [{\"colorbar\": {\"outlinewidth\": 0, \"ticks\": \"\"}, \"colorscale\": [[0.0, \"#0d0887\"], [0.1111111111111111, \"#46039f\"], [0.2222222222222222, \"#7201a8\"], [0.3333333333333333, \"#9c179e\"], [0.4444444444444444, \"#bd3786\"], [0.5555555555555556, \"#d8576b\"], [0.6666666666666666, \"#ed7953\"], [0.7777777777777778, \"#fb9f3a\"], [0.8888888888888888, \"#fdca26\"], [1.0, \"#f0f921\"]], \"type\": \"heatmapgl\"}], \"histogram\": [{\"marker\": {\"colorbar\": {\"outlinewidth\": 0, \"ticks\": \"\"}}, \"type\": \"histogram\"}], \"histogram2d\": [{\"colorbar\": {\"outlinewidth\": 0, \"ticks\": \"\"}, \"colorscale\": [[0.0, \"#0d0887\"], [0.1111111111111111, \"#46039f\"], [0.2222222222222222, \"#7201a8\"], [0.3333333333333333, \"#9c179e\"], [0.4444444444444444, \"#bd3786\"], [0.5555555555555556, \"#d8576b\"], [0.6666666666666666, \"#ed7953\"], [0.7777777777777778, \"#fb9f3a\"], [0.8888888888888888, \"#fdca26\"], [1.0, \"#f0f921\"]], \"type\": \"histogram2d\"}], \"histogram2dcontour\": [{\"colorbar\": {\"outlinewidth\": 0, \"ticks\": \"\"}, \"colorscale\": [[0.0, \"#0d0887\"], [0.1111111111111111, \"#46039f\"], [0.2222222222222222, \"#7201a8\"], [0.3333333333333333, \"#9c179e\"], [0.4444444444444444, \"#bd3786\"], [0.5555555555555556, \"#d8576b\"], [0.6666666666666666, \"#ed7953\"], [0.7777777777777778, \"#fb9f3a\"], [0.8888888888888888, \"#fdca26\"], [1.0, \"#f0f921\"]], \"type\": \"histogram2dcontour\"}], \"mesh3d\": [{\"colorbar\": {\"outlinewidth\": 0, \"ticks\": \"\"}, \"type\": \"mesh3d\"}], \"parcoords\": [{\"line\": {\"colorbar\": {\"outlinewidth\": 0, \"ticks\": \"\"}}, \"type\": \"parcoords\"}], \"pie\": [{\"automargin\": true, \"type\": \"pie\"}], \"scatter\": [{\"marker\": {\"colorbar\": {\"outlinewidth\": 0, \"ticks\": \"\"}}, \"type\": \"scatter\"}], \"scatter3d\": [{\"line\": {\"colorbar\": {\"outlinewidth\": 0, \"ticks\": \"\"}}, \"marker\": {\"colorbar\": {\"outlinewidth\": 0, \"ticks\": \"\"}}, \"type\": \"scatter3d\"}], \"scattercarpet\": [{\"marker\": {\"colorbar\": {\"outlinewidth\": 0, \"ticks\": \"\"}}, \"type\": \"scattercarpet\"}], \"scattergeo\": [{\"marker\": {\"colorbar\": {\"outlinewidth\": 0, \"ticks\": \"\"}}, \"type\": \"scattergeo\"}], \"scattergl\": [{\"marker\": {\"colorbar\": {\"outlinewidth\": 0, \"ticks\": \"\"}}, \"type\": \"scattergl\"}], \"scattermapbox\": [{\"marker\": {\"colorbar\": {\"outlinewidth\": 0, \"ticks\": \"\"}}, \"type\": \"scattermapbox\"}], \"scatterpolar\": [{\"marker\": {\"colorbar\": {\"outlinewidth\": 0, \"ticks\": \"\"}}, \"type\": \"scatterpolar\"}], \"scatterpolargl\": [{\"marker\": {\"colorbar\": {\"outlinewidth\": 0, \"ticks\": \"\"}}, \"type\": \"scatterpolargl\"}], \"scatterternary\": [{\"marker\": {\"colorbar\": {\"outlinewidth\": 0, \"ticks\": \"\"}}, \"type\": \"scatterternary\"}], \"surface\": [{\"colorbar\": {\"outlinewidth\": 0, \"ticks\": \"\"}, \"colorscale\": [[0.0, \"#0d0887\"], [0.1111111111111111, \"#46039f\"], [0.2222222222222222, \"#7201a8\"], [0.3333333333333333, \"#9c179e\"], [0.4444444444444444, \"#bd3786\"], [0.5555555555555556, \"#d8576b\"], [0.6666666666666666, \"#ed7953\"], [0.7777777777777778, \"#fb9f3a\"], [0.8888888888888888, \"#fdca26\"], [1.0, \"#f0f921\"]], \"type\": \"surface\"}], \"table\": [{\"cells\": {\"fill\": {\"color\": \"#EBF0F8\"}, \"line\": {\"color\": \"white\"}}, \"header\": {\"fill\": {\"color\": \"#C8D4E3\"}, \"line\": {\"color\": \"white\"}}, \"type\": \"table\"}]}, \"layout\": {\"annotationdefaults\": {\"arrowcolor\": \"#2a3f5f\", \"arrowhead\": 0, \"arrowwidth\": 1}, \"coloraxis\": {\"colorbar\": {\"outlinewidth\": 0, \"ticks\": \"\"}}, \"colorscale\": {\"diverging\": [[0, \"#8e0152\"], [0.1, \"#c51b7d\"], [0.2, \"#de77ae\"], [0.3, \"#f1b6da\"], [0.4, \"#fde0ef\"], [0.5, \"#f7f7f7\"], [0.6, \"#e6f5d0\"], [0.7, \"#b8e186\"], [0.8, \"#7fbc41\"], [0.9, \"#4d9221\"], [1, \"#276419\"]], \"sequential\": [[0.0, \"#0d0887\"], [0.1111111111111111, \"#46039f\"], [0.2222222222222222, \"#7201a8\"], [0.3333333333333333, \"#9c179e\"], [0.4444444444444444, \"#bd3786\"], [0.5555555555555556, \"#d8576b\"], [0.6666666666666666, \"#ed7953\"], [0.7777777777777778, \"#fb9f3a\"], [0.8888888888888888, \"#fdca26\"], [1.0, \"#f0f921\"]], \"sequentialminus\": [[0.0, \"#0d0887\"], [0.1111111111111111, \"#46039f\"], [0.2222222222222222, \"#7201a8\"], [0.3333333333333333, \"#9c179e\"], [0.4444444444444444, \"#bd3786\"], [0.5555555555555556, \"#d8576b\"], [0.6666666666666666, \"#ed7953\"], [0.7777777777777778, \"#fb9f3a\"], [0.8888888888888888, \"#fdca26\"], [1.0, \"#f0f921\"]]}, \"colorway\": [\"#636efa\", \"#EF553B\", \"#00cc96\", \"#ab63fa\", \"#FFA15A\", \"#19d3f3\", \"#FF6692\", \"#B6E880\", \"#FF97FF\", \"#FECB52\"], \"font\": {\"color\": \"#2a3f5f\"}, \"geo\": {\"bgcolor\": \"white\", \"lakecolor\": \"white\", \"landcolor\": \"#E5ECF6\", \"showlakes\": true, \"showland\": true, \"subunitcolor\": \"white\"}, \"hoverlabel\": {\"align\": \"left\"}, \"hovermode\": \"closest\", \"mapbox\": {\"style\": \"light\"}, \"paper_bgcolor\": \"white\", \"plot_bgcolor\": \"#E5ECF6\", \"polar\": {\"angularaxis\": {\"gridcolor\": \"white\", \"linecolor\": \"white\", \"ticks\": \"\"}, \"bgcolor\": \"#E5ECF6\", \"radialaxis\": {\"gridcolor\": \"white\", \"linecolor\": \"white\", \"ticks\": \"\"}}, \"scene\": {\"xaxis\": {\"backgroundcolor\": \"#E5ECF6\", \"gridcolor\": \"white\", \"gridwidth\": 2, \"linecolor\": \"white\", \"showbackground\": true, \"ticks\": \"\", \"zerolinecolor\": \"white\"}, \"yaxis\": {\"backgroundcolor\": \"#E5ECF6\", \"gridcolor\": \"white\", \"gridwidth\": 2, \"linecolor\": \"white\", \"showbackground\": true, \"ticks\": \"\", \"zerolinecolor\": \"white\"}, \"zaxis\": {\"backgroundcolor\": \"#E5ECF6\", \"gridcolor\": \"white\", \"gridwidth\": 2, \"linecolor\": \"white\", \"showbackground\": true, \"ticks\": \"\", \"zerolinecolor\": \"white\"}}, \"shapedefaults\": {\"line\": {\"color\": \"#2a3f5f\"}}, \"ternary\": {\"aaxis\": {\"gridcolor\": \"white\", \"linecolor\": \"white\", \"ticks\": \"\"}, \"baxis\": {\"gridcolor\": \"white\", \"linecolor\": \"white\", \"ticks\": \"\"}, \"bgcolor\": \"#E5ECF6\", \"caxis\": {\"gridcolor\": \"white\", \"linecolor\": \"white\", \"ticks\": \"\"}}, \"title\": {\"x\": 0.05}, \"xaxis\": {\"automargin\": true, \"gridcolor\": \"white\", \"linecolor\": \"white\", \"ticks\": \"\", \"title\": {\"standoff\": 15}, \"zerolinecolor\": \"white\", \"zerolinewidth\": 2}, \"yaxis\": {\"automargin\": true, \"gridcolor\": \"white\", \"linecolor\": \"white\", \"ticks\": \"\", \"title\": {\"standoff\": 15}, \"zerolinecolor\": \"white\", \"zerolinewidth\": 2}}}, \"title\": {\"text\": \"Best Schools in Atlanta\"}, \"xaxis\": {\"tickfont\": {\"size\": 8}}, \"yaxis\": {\"tickfont\": {\"size\": 14}, \"title\": {\"font\": {\"size\": 14}, \"text\": \"CCRPIScores(College Readiness Scores)\"}}},                        {\"responsive\": true}                    ).then(function(){\n",
       "                            \n",
       "var gd = document.getElementById('a7d32c74-3726-437d-9ee5-d54b4fa1d57b');\n",
       "var x = new MutationObserver(function (mutations, observer) {{\n",
       "        var display = window.getComputedStyle(gd).display;\n",
       "        if (!display || display === 'none') {{\n",
       "            console.log([gd, 'removed!']);\n",
       "            Plotly.purge(gd);\n",
       "            observer.disconnect();\n",
       "        }}\n",
       "}});\n",
       "\n",
       "// Listen for the removal of the full notebook cells\n",
       "var notebookContainer = gd.closest('#notebook-container');\n",
       "if (notebookContainer) {{\n",
       "    x.observe(notebookContainer, {childList: true});\n",
       "}}\n",
       "\n",
       "// Listen for the clearing of the current output cell\n",
       "var outputEl = gd.closest('.output');\n",
       "if (outputEl) {{\n",
       "    x.observe(outputEl, {childList: true});\n",
       "}}\n",
       "\n",
       "                        })                };                });            </script>        </div>"
      ]
     },
     "metadata": {},
     "output_type": "display_data"
    }
   ],
   "source": [
    "import plotly.graph_objects as go\n",
    "\n",
    "Elm_Schools=['Kittredge Magnet School', 'Wadsworth Magnet School', 'Britt David Magnet Academy','Marietta Center for Advanced Academics', 'Lake Windward Elementary School', 'ohns Creek Elementary School','Daves Creek Elementary School', 'Walker Traditional Elementary School', 'Settles Bridge Elementary School', 'Simpson Elementary School']\n",
    "Middle_Schools=['Riverwatch Middle School', 'Dickerson Middle School', 'Kittredge Magnet School','Robert A. Cross Middle Magnet', 'Dodgen Middle School', 'Davidson Magnet School','South Forsyth Middle School', 'Hightower Trail Middle School', 'Elite Scholars Academy School', 'River Trail Middle School']\n",
    "High_Schools=['Gwinnett School of Mathematics, Science and Technology', 'DeKalb Early College Academy', 'Davidson Magnet School','Elite Scholars Academy School', 'Academy For Classical Education', 'Walton High School','Buford High School', 'North Oconee High School', 'Lambert High School', 'Northview High School']\n",
    "\n",
    "fig = go.Figure()\n",
    "fig.add_trace(go.Bar(x=Elm_Schools,\n",
    "                y=[108.7, 106.5, 106.0, 104.7, 104.5, 103.5, 103.3, 102.2, 101.4, 101.0],\n",
    "                name='Elementary Schools',\n",
    "                marker_color='rgb(0, 191, 255)'\n",
    "                ))\n",
    "fig.add_trace(go.Bar(x=Middle_Schools,\n",
    "                y=[103.9, 103.0, 101.9, 101.5, 101.0, 100.7, 100.6, 100.5, 100.1, 99.5],\n",
    "                name='Middle School',\n",
    "                marker_color='rgb(0, 191, 34)'\n",
    "                ))\n",
    "fig.add_trace(go.Bar(x=High_Schools,\n",
    "                y=[108.2, 107.1, 105.8, 104.2, 103.3, 101.0, 100.7, 100.6, 100.5, 100.4],\n",
    "                name='High School',\n",
    "                marker_color='rgb(254, 101, 34)'\n",
    "                ))\n",
    "\n",
    "fig.update_layout(\n",
    "    title='Best Schools in Atlanta',\n",
    "    xaxis_tickfont_size=8,\n",
    "    yaxis=dict(\n",
    "        title='CCRPIScores(College Readiness Scores)',\n",
    "        titlefont_size=14,\n",
    "        tickfont_size=14,\n",
    "    ),\n",
    "    legend=dict(\n",
    "        x=1.0,\n",
    "        y=1.0,\n",
    "        bgcolor='rgba(255, 255, 255, 0)',\n",
    "        bordercolor='rgba(255, 255, 255, 0)'\n",
    "    ),\n",
    "    barmode='group',\n",
    "    bargap=0.15, # gap between bars of adjacent location coordinates.\n",
    "    bargroupgap=0.1 # gap between bars of the same location coordinate.\n",
    ")\n",
    "fig.show()"
   ]
  },
  {
   "cell_type": "code",
   "execution_count": 17,
   "metadata": {},
   "outputs": [
    {
     "data": {
      "text/html": [
       "<div>\n",
       "<style scoped>\n",
       "    .dataframe tbody tr th:only-of-type {\n",
       "        vertical-align: middle;\n",
       "    }\n",
       "\n",
       "    .dataframe tbody tr th {\n",
       "        vertical-align: top;\n",
       "    }\n",
       "\n",
       "    .dataframe thead th {\n",
       "        text-align: right;\n",
       "    }\n",
       "</style>\n",
       "<table border=\"1\" class=\"dataframe\">\n",
       "  <thead>\n",
       "    <tr style=\"text-align: right;\">\n",
       "      <th></th>\n",
       "      <th>School Name</th>\n",
       "      <th>City</th>\n",
       "      <th>CCRPIScoreE</th>\n",
       "      <th>CCRPIScoreM</th>\n",
       "      <th>CCRPIScoreH</th>\n",
       "    </tr>\n",
       "  </thead>\n",
       "  <tbody>\n",
       "    <tr>\n",
       "      <th>459</th>\n",
       "      <td>Peachtree Charter Middle</td>\n",
       "      <td>Atlanta</td>\n",
       "      <td>NaN</td>\n",
       "      <td>77.8</td>\n",
       "      <td>NaN</td>\n",
       "    </tr>\n",
       "    <tr>\n",
       "      <th>474</th>\n",
       "      <td>Kittredge Magnet School</td>\n",
       "      <td>Atlanta</td>\n",
       "      <td>108.7</td>\n",
       "      <td>101.9</td>\n",
       "      <td>NaN</td>\n",
       "    </tr>\n",
       "    <tr>\n",
       "      <th>475</th>\n",
       "      <td>Sequoyah Middle School</td>\n",
       "      <td>Atlanta</td>\n",
       "      <td>NaN</td>\n",
       "      <td>64.4</td>\n",
       "      <td>NaN</td>\n",
       "    </tr>\n",
       "    <tr>\n",
       "      <th>483</th>\n",
       "      <td>The GLOBE Academy</td>\n",
       "      <td>Atlanta</td>\n",
       "      <td>92.1</td>\n",
       "      <td>73.9</td>\n",
       "      <td>NaN</td>\n",
       "    </tr>\n",
       "    <tr>\n",
       "      <th>499</th>\n",
       "      <td>Margaret Harris Comprehensive School</td>\n",
       "      <td>Atlanta</td>\n",
       "      <td>NaN</td>\n",
       "      <td>92.0</td>\n",
       "      <td>NaN</td>\n",
       "    </tr>\n",
       "    <tr>\n",
       "      <th>...</th>\n",
       "      <td>...</td>\n",
       "      <td>...</td>\n",
       "      <td>...</td>\n",
       "      <td>...</td>\n",
       "      <td>...</td>\n",
       "    </tr>\n",
       "    <tr>\n",
       "      <th>2208</th>\n",
       "      <td>Fred A. Toomer Elementary School</td>\n",
       "      <td>Atlanta</td>\n",
       "      <td>58.6</td>\n",
       "      <td>NaN</td>\n",
       "      <td>NaN</td>\n",
       "    </tr>\n",
       "    <tr>\n",
       "      <th>2242</th>\n",
       "      <td>Graduation Achievement Center Charter High School</td>\n",
       "      <td>Atlanta</td>\n",
       "      <td>NaN</td>\n",
       "      <td>NaN</td>\n",
       "      <td>45.0</td>\n",
       "    </tr>\n",
       "    <tr>\n",
       "      <th>2243</th>\n",
       "      <td>Georgia Cyber Academy</td>\n",
       "      <td>Atlanta</td>\n",
       "      <td>60.4</td>\n",
       "      <td>66.9</td>\n",
       "      <td>62.8</td>\n",
       "    </tr>\n",
       "    <tr>\n",
       "      <th>2247</th>\n",
       "      <td>Ivy Preparatory Academy, Inc</td>\n",
       "      <td>Atlanta</td>\n",
       "      <td>85.1</td>\n",
       "      <td>81.9</td>\n",
       "      <td>NaN</td>\n",
       "    </tr>\n",
       "    <tr>\n",
       "      <th>2257</th>\n",
       "      <td>Atlanta Heights Charter School</td>\n",
       "      <td>Atlanta</td>\n",
       "      <td>66.6</td>\n",
       "      <td>65.2</td>\n",
       "      <td>NaN</td>\n",
       "    </tr>\n",
       "  </tbody>\n",
       "</table>\n",
       "<p>119 rows × 5 columns</p>\n",
       "</div>"
      ],
      "text/plain": [
       "                                            School Name     City  CCRPIScoreE  \\\n",
       "459                            Peachtree Charter Middle  Atlanta          NaN   \n",
       "474                             Kittredge Magnet School  Atlanta        108.7   \n",
       "475                              Sequoyah Middle School  Atlanta          NaN   \n",
       "483                                  The GLOBE Academy   Atlanta         92.1   \n",
       "499                Margaret Harris Comprehensive School  Atlanta          NaN   \n",
       "...                                                 ...      ...          ...   \n",
       "2208                  Fred A. Toomer Elementary School   Atlanta         58.6   \n",
       "2242  Graduation Achievement Center Charter High School  Atlanta          NaN   \n",
       "2243                              Georgia Cyber Academy  Atlanta         60.4   \n",
       "2247                       Ivy Preparatory Academy, Inc  Atlanta         85.1   \n",
       "2257                     Atlanta Heights Charter School  Atlanta         66.6   \n",
       "\n",
       "      CCRPIScoreM  CCRPIScoreH  \n",
       "459          77.8          NaN  \n",
       "474         101.9          NaN  \n",
       "475          64.4          NaN  \n",
       "483          73.9          NaN  \n",
       "499          92.0          NaN  \n",
       "...           ...          ...  \n",
       "2208          NaN          NaN  \n",
       "2242          NaN         45.0  \n",
       "2243         66.9         62.8  \n",
       "2247         81.9          NaN  \n",
       "2257         65.2          NaN  \n",
       "\n",
       "[119 rows x 5 columns]"
      ]
     },
     "execution_count": 17,
     "metadata": {},
     "output_type": "execute_result"
    }
   ],
   "source": [
    "atlanta_ratings = Ratings_df[[\"School Name\", \n",
    "                           \"City\", \"CCRPIScoreE\", \"CCRPIScoreM\", \"CCRPIScoreH\"]]\n",
    "atlanta_ratings= atlanta_ratings[atlanta_ratings[\"City\"]==\"Atlanta\"]\n",
    "atlanta_ratings"
   ]
  },
  {
   "cell_type": "code",
   "execution_count": 18,
   "metadata": {},
   "outputs": [
    {
     "data": {
      "text/html": [
       "<div>\n",
       "<style scoped>\n",
       "    .dataframe tbody tr th:only-of-type {\n",
       "        vertical-align: middle;\n",
       "    }\n",
       "\n",
       "    .dataframe tbody tr th {\n",
       "        vertical-align: top;\n",
       "    }\n",
       "\n",
       "    .dataframe thead th {\n",
       "        text-align: right;\n",
       "    }\n",
       "</style>\n",
       "<table border=\"1\" class=\"dataframe\">\n",
       "  <thead>\n",
       "    <tr style=\"text-align: right;\">\n",
       "      <th></th>\n",
       "      <th>School Name</th>\n",
       "      <th>City</th>\n",
       "      <th>CCRPIScoreE</th>\n",
       "      <th>CCRPIScoreM</th>\n",
       "      <th>CCRPIScoreH</th>\n",
       "    </tr>\n",
       "  </thead>\n",
       "  <tbody>\n",
       "    <tr>\n",
       "      <th>474</th>\n",
       "      <td>Kittredge Magnet School</td>\n",
       "      <td>Atlanta</td>\n",
       "      <td>108.7</td>\n",
       "      <td>101.9</td>\n",
       "      <td>NaN</td>\n",
       "    </tr>\n",
       "    <tr>\n",
       "      <th>2186</th>\n",
       "      <td>Warren T. Jackson Elementary School</td>\n",
       "      <td>Atlanta</td>\n",
       "      <td>100.7</td>\n",
       "      <td>NaN</td>\n",
       "      <td>NaN</td>\n",
       "    </tr>\n",
       "    <tr>\n",
       "      <th>2183</th>\n",
       "      <td>Brandon Elementary School</td>\n",
       "      <td>Atlanta</td>\n",
       "      <td>98.8</td>\n",
       "      <td>NaN</td>\n",
       "      <td>NaN</td>\n",
       "    </tr>\n",
       "    <tr>\n",
       "      <th>2187</th>\n",
       "      <td>Mary Lin Elementary</td>\n",
       "      <td>Atlanta</td>\n",
       "      <td>97.8</td>\n",
       "      <td>NaN</td>\n",
       "      <td>NaN</td>\n",
       "    </tr>\n",
       "    <tr>\n",
       "      <th>1418</th>\n",
       "      <td>Springdale Park Elementary School</td>\n",
       "      <td>Atlanta</td>\n",
       "      <td>95.8</td>\n",
       "      <td>NaN</td>\n",
       "      <td>NaN</td>\n",
       "    </tr>\n",
       "    <tr>\n",
       "      <th>2182</th>\n",
       "      <td>Morningside Elementary School</td>\n",
       "      <td>Atlanta</td>\n",
       "      <td>94.7</td>\n",
       "      <td>NaN</td>\n",
       "      <td>NaN</td>\n",
       "    </tr>\n",
       "    <tr>\n",
       "      <th>483</th>\n",
       "      <td>The GLOBE Academy</td>\n",
       "      <td>Atlanta</td>\n",
       "      <td>92.1</td>\n",
       "      <td>73.9</td>\n",
       "      <td>NaN</td>\n",
       "    </tr>\n",
       "    <tr>\n",
       "      <th>730</th>\n",
       "      <td>Woodland Elementary School</td>\n",
       "      <td>Atlanta</td>\n",
       "      <td>89.2</td>\n",
       "      <td>NaN</td>\n",
       "      <td>NaN</td>\n",
       "    </tr>\n",
       "    <tr>\n",
       "      <th>1429</th>\n",
       "      <td>Charles R. Drew Charter School Elementary Academy</td>\n",
       "      <td>Atlanta</td>\n",
       "      <td>87.9</td>\n",
       "      <td>NaN</td>\n",
       "      <td>NaN</td>\n",
       "    </tr>\n",
       "    <tr>\n",
       "      <th>1758</th>\n",
       "      <td>Oak Grove Elementary School</td>\n",
       "      <td>Atlanta</td>\n",
       "      <td>87.7</td>\n",
       "      <td>NaN</td>\n",
       "      <td>NaN</td>\n",
       "    </tr>\n",
       "  </tbody>\n",
       "</table>\n",
       "</div>"
      ],
      "text/plain": [
       "                                            School Name     City  CCRPIScoreE  \\\n",
       "474                             Kittredge Magnet School  Atlanta        108.7   \n",
       "2186                Warren T. Jackson Elementary School  Atlanta        100.7   \n",
       "2183                          Brandon Elementary School  Atlanta         98.8   \n",
       "2187                               Mary Lin Elementary   Atlanta         97.8   \n",
       "1418                  Springdale Park Elementary School  Atlanta         95.8   \n",
       "2182                      Morningside Elementary School  Atlanta         94.7   \n",
       "483                                  The GLOBE Academy   Atlanta         92.1   \n",
       "730                          Woodland Elementary School  Atlanta         89.2   \n",
       "1429  Charles R. Drew Charter School Elementary Academy  Atlanta         87.9   \n",
       "1758                        Oak Grove Elementary School  Atlanta         87.7   \n",
       "\n",
       "      CCRPIScoreM  CCRPIScoreH  \n",
       "474         101.9          NaN  \n",
       "2186          NaN          NaN  \n",
       "2183          NaN          NaN  \n",
       "2187          NaN          NaN  \n",
       "1418          NaN          NaN  \n",
       "2182          NaN          NaN  \n",
       "483          73.9          NaN  \n",
       "730           NaN          NaN  \n",
       "1429          NaN          NaN  \n",
       "1758          NaN          NaN  "
      ]
     },
     "execution_count": 18,
     "metadata": {},
     "output_type": "execute_result"
    }
   ],
   "source": [
    "top_elementary_ATL = atlanta_ratings[atlanta_ratings[\"CCRPIScoreE\"]>0].sort_values(by=\"CCRPIScoreE\",ascending=False).head(10)\n",
    "top_elementary_ATL"
   ]
  },
  {
   "cell_type": "code",
   "execution_count": 19,
   "metadata": {},
   "outputs": [
    {
     "data": {
      "text/html": [
       "<div>\n",
       "<style scoped>\n",
       "    .dataframe tbody tr th:only-of-type {\n",
       "        vertical-align: middle;\n",
       "    }\n",
       "\n",
       "    .dataframe tbody tr th {\n",
       "        vertical-align: top;\n",
       "    }\n",
       "\n",
       "    .dataframe thead th {\n",
       "        text-align: right;\n",
       "    }\n",
       "</style>\n",
       "<table border=\"1\" class=\"dataframe\">\n",
       "  <thead>\n",
       "    <tr style=\"text-align: right;\">\n",
       "      <th></th>\n",
       "      <th>School Name</th>\n",
       "      <th>City</th>\n",
       "      <th>CCRPIScoreE</th>\n",
       "      <th>CCRPIScoreM</th>\n",
       "      <th>CCRPIScoreH</th>\n",
       "    </tr>\n",
       "  </thead>\n",
       "  <tbody>\n",
       "    <tr>\n",
       "      <th>474</th>\n",
       "      <td>Kittredge Magnet School</td>\n",
       "      <td>Atlanta</td>\n",
       "      <td>108.7</td>\n",
       "      <td>101.9</td>\n",
       "      <td>NaN</td>\n",
       "    </tr>\n",
       "    <tr>\n",
       "      <th>499</th>\n",
       "      <td>Margaret Harris Comprehensive School</td>\n",
       "      <td>Atlanta</td>\n",
       "      <td>NaN</td>\n",
       "      <td>92.0</td>\n",
       "      <td>NaN</td>\n",
       "    </tr>\n",
       "    <tr>\n",
       "      <th>2180</th>\n",
       "      <td>Inman Middle School</td>\n",
       "      <td>Atlanta</td>\n",
       "      <td>NaN</td>\n",
       "      <td>89.9</td>\n",
       "      <td>NaN</td>\n",
       "    </tr>\n",
       "    <tr>\n",
       "      <th>1452</th>\n",
       "      <td>Charles R. Drew Charter School Junior and Seni...</td>\n",
       "      <td>Atlanta</td>\n",
       "      <td>NaN</td>\n",
       "      <td>86.8</td>\n",
       "      <td>91.5</td>\n",
       "    </tr>\n",
       "    <tr>\n",
       "      <th>505</th>\n",
       "      <td>DeKalb PATH Academy</td>\n",
       "      <td>Atlanta</td>\n",
       "      <td>70.9</td>\n",
       "      <td>84.2</td>\n",
       "      <td>NaN</td>\n",
       "    </tr>\n",
       "    <tr>\n",
       "      <th>2247</th>\n",
       "      <td>Ivy Preparatory Academy, Inc</td>\n",
       "      <td>Atlanta</td>\n",
       "      <td>85.1</td>\n",
       "      <td>81.9</td>\n",
       "      <td>NaN</td>\n",
       "    </tr>\n",
       "    <tr>\n",
       "      <th>1428</th>\n",
       "      <td>Centennial Academy</td>\n",
       "      <td>Atlanta</td>\n",
       "      <td>82.7</td>\n",
       "      <td>80.8</td>\n",
       "      <td>NaN</td>\n",
       "    </tr>\n",
       "    <tr>\n",
       "      <th>1448</th>\n",
       "      <td>Atlanta Classical Academy</td>\n",
       "      <td>Atlanta</td>\n",
       "      <td>74.2</td>\n",
       "      <td>79.9</td>\n",
       "      <td>72.8</td>\n",
       "    </tr>\n",
       "    <tr>\n",
       "      <th>1430</th>\n",
       "      <td>Atlanta Neighborhood Charter School-Middle</td>\n",
       "      <td>Atlanta</td>\n",
       "      <td>NaN</td>\n",
       "      <td>78.1</td>\n",
       "      <td>NaN</td>\n",
       "    </tr>\n",
       "    <tr>\n",
       "      <th>459</th>\n",
       "      <td>Peachtree Charter Middle</td>\n",
       "      <td>Atlanta</td>\n",
       "      <td>NaN</td>\n",
       "      <td>77.8</td>\n",
       "      <td>NaN</td>\n",
       "    </tr>\n",
       "  </tbody>\n",
       "</table>\n",
       "</div>"
      ],
      "text/plain": [
       "                                            School Name     City  CCRPIScoreE  \\\n",
       "474                             Kittredge Magnet School  Atlanta        108.7   \n",
       "499                Margaret Harris Comprehensive School  Atlanta          NaN   \n",
       "2180                                Inman Middle School  Atlanta          NaN   \n",
       "1452  Charles R. Drew Charter School Junior and Seni...  Atlanta          NaN   \n",
       "505                                 DeKalb PATH Academy  Atlanta         70.9   \n",
       "2247                       Ivy Preparatory Academy, Inc  Atlanta         85.1   \n",
       "1428                                 Centennial Academy  Atlanta         82.7   \n",
       "1448                          Atlanta Classical Academy  Atlanta         74.2   \n",
       "1430         Atlanta Neighborhood Charter School-Middle  Atlanta          NaN   \n",
       "459                            Peachtree Charter Middle  Atlanta          NaN   \n",
       "\n",
       "      CCRPIScoreM  CCRPIScoreH  \n",
       "474         101.9          NaN  \n",
       "499          92.0          NaN  \n",
       "2180         89.9          NaN  \n",
       "1452         86.8         91.5  \n",
       "505          84.2          NaN  \n",
       "2247         81.9          NaN  \n",
       "1428         80.8          NaN  \n",
       "1448         79.9         72.8  \n",
       "1430         78.1          NaN  \n",
       "459          77.8          NaN  "
      ]
     },
     "execution_count": 19,
     "metadata": {},
     "output_type": "execute_result"
    }
   ],
   "source": [
    "top_middle_ATL = atlanta_ratings[atlanta_ratings[\"CCRPIScoreM\"]>0].sort_values(by=\"CCRPIScoreM\",ascending=False).head(10)\n",
    "top_middle_ATL"
   ]
  },
  {
   "cell_type": "code",
   "execution_count": 20,
   "metadata": {},
   "outputs": [
    {
     "data": {
      "text/html": [
       "<div>\n",
       "<style scoped>\n",
       "    .dataframe tbody tr th:only-of-type {\n",
       "        vertical-align: middle;\n",
       "    }\n",
       "\n",
       "    .dataframe tbody tr th {\n",
       "        vertical-align: top;\n",
       "    }\n",
       "\n",
       "    .dataframe thead th {\n",
       "        text-align: right;\n",
       "    }\n",
       "</style>\n",
       "<table border=\"1\" class=\"dataframe\">\n",
       "  <thead>\n",
       "    <tr style=\"text-align: right;\">\n",
       "      <th></th>\n",
       "      <th>School Name</th>\n",
       "      <th>City</th>\n",
       "      <th>CCRPIScoreE</th>\n",
       "      <th>CCRPIScoreM</th>\n",
       "      <th>CCRPIScoreH</th>\n",
       "    </tr>\n",
       "  </thead>\n",
       "  <tbody>\n",
       "    <tr>\n",
       "      <th>1416</th>\n",
       "      <td>Carver Early College</td>\n",
       "      <td>Atlanta</td>\n",
       "      <td>NaN</td>\n",
       "      <td>NaN</td>\n",
       "      <td>91.9</td>\n",
       "    </tr>\n",
       "    <tr>\n",
       "      <th>1452</th>\n",
       "      <td>Charles R. Drew Charter School Junior and Seni...</td>\n",
       "      <td>Atlanta</td>\n",
       "      <td>NaN</td>\n",
       "      <td>86.8</td>\n",
       "      <td>91.5</td>\n",
       "    </tr>\n",
       "    <tr>\n",
       "      <th>2201</th>\n",
       "      <td>Henry W. Grady High School</td>\n",
       "      <td>Atlanta</td>\n",
       "      <td>NaN</td>\n",
       "      <td>NaN</td>\n",
       "      <td>83.6</td>\n",
       "    </tr>\n",
       "    <tr>\n",
       "      <th>1757</th>\n",
       "      <td>Lakeside High School</td>\n",
       "      <td>Atlanta</td>\n",
       "      <td>NaN</td>\n",
       "      <td>NaN</td>\n",
       "      <td>82.9</td>\n",
       "    </tr>\n",
       "    <tr>\n",
       "      <th>1426</th>\n",
       "      <td>North Atlanta High School</td>\n",
       "      <td>Atlanta</td>\n",
       "      <td>NaN</td>\n",
       "      <td>NaN</td>\n",
       "      <td>81.7</td>\n",
       "    </tr>\n",
       "    <tr>\n",
       "      <th>1860</th>\n",
       "      <td>Westlake High School</td>\n",
       "      <td>Atlanta</td>\n",
       "      <td>NaN</td>\n",
       "      <td>NaN</td>\n",
       "      <td>80.5</td>\n",
       "    </tr>\n",
       "    <tr>\n",
       "      <th>1767</th>\n",
       "      <td>Cross Keys High School</td>\n",
       "      <td>Atlanta</td>\n",
       "      <td>NaN</td>\n",
       "      <td>NaN</td>\n",
       "      <td>78.3</td>\n",
       "    </tr>\n",
       "    <tr>\n",
       "      <th>1741</th>\n",
       "      <td>Druid Hills High School</td>\n",
       "      <td>Atlanta</td>\n",
       "      <td>NaN</td>\n",
       "      <td>NaN</td>\n",
       "      <td>77.0</td>\n",
       "    </tr>\n",
       "    <tr>\n",
       "      <th>1424</th>\n",
       "      <td>Maynard H. Jackson High School</td>\n",
       "      <td>Atlanta</td>\n",
       "      <td>NaN</td>\n",
       "      <td>NaN</td>\n",
       "      <td>75.6</td>\n",
       "    </tr>\n",
       "    <tr>\n",
       "      <th>1432</th>\n",
       "      <td>KIPP Atlanta Collegiate Academy</td>\n",
       "      <td>Atlanta</td>\n",
       "      <td>NaN</td>\n",
       "      <td>NaN</td>\n",
       "      <td>72.9</td>\n",
       "    </tr>\n",
       "  </tbody>\n",
       "</table>\n",
       "</div>"
      ],
      "text/plain": [
       "                                            School Name     City  CCRPIScoreE  \\\n",
       "1416                              Carver Early College   Atlanta          NaN   \n",
       "1452  Charles R. Drew Charter School Junior and Seni...  Atlanta          NaN   \n",
       "2201                        Henry W. Grady High School   Atlanta          NaN   \n",
       "1757                               Lakeside High School  Atlanta          NaN   \n",
       "1426                          North Atlanta High School  Atlanta          NaN   \n",
       "1860                               Westlake High School  Atlanta          NaN   \n",
       "1767                             Cross Keys High School  Atlanta          NaN   \n",
       "1741                            Druid Hills High School  Atlanta          NaN   \n",
       "1424                    Maynard H. Jackson High School   Atlanta          NaN   \n",
       "1432                    KIPP Atlanta Collegiate Academy  Atlanta          NaN   \n",
       "\n",
       "      CCRPIScoreM  CCRPIScoreH  \n",
       "1416          NaN         91.9  \n",
       "1452         86.8         91.5  \n",
       "2201          NaN         83.6  \n",
       "1757          NaN         82.9  \n",
       "1426          NaN         81.7  \n",
       "1860          NaN         80.5  \n",
       "1767          NaN         78.3  \n",
       "1741          NaN         77.0  \n",
       "1424          NaN         75.6  \n",
       "1432          NaN         72.9  "
      ]
     },
     "execution_count": 20,
     "metadata": {},
     "output_type": "execute_result"
    }
   ],
   "source": [
    "top_high_ATL = atlanta_ratings[atlanta_ratings[\"CCRPIScoreH\"]>0].sort_values(by=\"CCRPIScoreH\",ascending=False).head(10)\n",
    "top_high_ATL"
   ]
  },
  {
   "cell_type": "code",
   "execution_count": 21,
   "metadata": {},
   "outputs": [
    {
     "data": {
      "text/plain": [
       "474                               Kittredge Magnet School\n",
       "2186                  Warren T. Jackson Elementary School\n",
       "2183                            Brandon Elementary School\n",
       "2187                                 Mary Lin Elementary \n",
       "1418                    Springdale Park Elementary School\n",
       "2182                        Morningside Elementary School\n",
       "483                                    The GLOBE Academy \n",
       "730                            Woodland Elementary School\n",
       "1429    Charles R. Drew Charter School Elementary Academy\n",
       "1758                          Oak Grove Elementary School\n",
       "Name: School Name, dtype: object"
      ]
     },
     "execution_count": 21,
     "metadata": {},
     "output_type": "execute_result"
    }
   ],
   "source": [
    "top_elementary_ATL[\"School Name\"]"
   ]
  },
  {
   "cell_type": "code",
   "execution_count": 22,
   "metadata": {},
   "outputs": [
    {
     "data": {
      "text/plain": [
       "474                               Kittredge Magnet School\n",
       "499                  Margaret Harris Comprehensive School\n",
       "2180                                  Inman Middle School\n",
       "1452    Charles R. Drew Charter School Junior and Seni...\n",
       "505                                   DeKalb PATH Academy\n",
       "2247                         Ivy Preparatory Academy, Inc\n",
       "1428                                   Centennial Academy\n",
       "1448                            Atlanta Classical Academy\n",
       "1430           Atlanta Neighborhood Charter School-Middle\n",
       "459                              Peachtree Charter Middle\n",
       "Name: School Name, dtype: object"
      ]
     },
     "execution_count": 22,
     "metadata": {},
     "output_type": "execute_result"
    }
   ],
   "source": [
    "top_middle_ATL[\"School Name\"]"
   ]
  },
  {
   "cell_type": "code",
   "execution_count": 23,
   "metadata": {},
   "outputs": [
    {
     "data": {
      "text/plain": [
       "1416                                Carver Early College \n",
       "1452    Charles R. Drew Charter School Junior and Seni...\n",
       "2201                          Henry W. Grady High School \n",
       "1757                                 Lakeside High School\n",
       "1426                            North Atlanta High School\n",
       "1860                                 Westlake High School\n",
       "1767                               Cross Keys High School\n",
       "1741                              Druid Hills High School\n",
       "1424                      Maynard H. Jackson High School \n",
       "1432                      KIPP Atlanta Collegiate Academy\n",
       "Name: School Name, dtype: object"
      ]
     },
     "execution_count": 23,
     "metadata": {},
     "output_type": "execute_result"
    }
   ],
   "source": [
    "top_high_ATL[\"School Name\"]"
   ]
  },
  {
   "cell_type": "code",
   "execution_count": null,
   "metadata": {},
   "outputs": [],
   "source": []
  }
 ],
 "metadata": {
  "kernelspec": {
   "display_name": "Python 3",
   "language": "python",
   "name": "python3"
  },
  "language_info": {
   "codemirror_mode": {
    "name": "ipython",
    "version": 3
   },
   "file_extension": ".py",
   "mimetype": "text/x-python",
   "name": "python",
   "nbconvert_exporter": "python",
   "pygments_lexer": "ipython3",
   "version": "3.7.6"
  }
 },
 "nbformat": 4,
 "nbformat_minor": 4
}
